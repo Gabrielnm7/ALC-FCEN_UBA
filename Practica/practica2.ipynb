{
 "cells": [
  {
   "cell_type": "code",
   "execution_count": 1,
   "metadata": {},
   "outputs": [],
   "source": [
    "from funciones import *\n",
    "import numpy as np\n",
    "import matplotlib.pyplot as plt"
   ]
  },
  {
   "cell_type": "markdown",
   "metadata": {},
   "source": [
    "## Aritmética de punto flotante\n"
   ]
  },
  {
   "cell_type": "markdown",
   "metadata": {},
   "source": [
    "### **Ejercicio 7.** \n",
    "*Algunos experimentos*: Realizar las siguientes operaciones en Python. En todos los casos, pensar: ¿cual es el resultado esperado? ¿coincide con el obtenido? ¿a que se debe el problema (si lo hay)? \n",
    "\n",
    "(Notamos ε al epsilon de la maquina. Puede obtenerse importando la librería `numpy` como np y ejecutando el comando `np.finfo(np.float).eps`)"
   ]
  },
  {
   "cell_type": "markdown",
   "metadata": {},
   "source": [
    "#### Hay m items:"
   ]
  },
  {
   "cell_type": "code",
   "execution_count": 11,
   "metadata": {},
   "outputs": [
    {
     "name": "stdout",
     "output_type": "stream",
     "text": [
      "a) p + q − p =  0.0\n",
      "b) i) (p + q) + q =  100.0\n",
      "   ii) ((p + q) + q) + q =  100.0\n",
      "c) 0.1+0.2 == 0.3 =  False\n",
      "d) 0.1+0.3 == 0.4 =  True\n",
      "e) 1e^-323 =  1e-323\n",
      "f) 1e^−324 =  0.0\n",
      "epsilon:  2.220446049250313e-16\n",
      "g) epsilon / 2 =  1.1102230246251565e-16\n",
      "h) (1 + eps/2) + (eps/2) =  1.0\n",
      "i) 1 + (eps/2 + eps/2) =  1.0000000000000002\n",
      "j) ((1 + eps/2) + eps/2) - 1 =  0.0\n",
      "k) (1 + (eps/2 + eps/2)) - 1 =  2.220446049250313e-16\n",
      "l) sen(10^j pi) para 1 ≤ j ≤ 25\n",
      "[-1.22464680e-15  1.96438672e-15 -3.21416646e-13 -4.85682354e-13\n",
      " -3.39606540e-11 -2.23191218e-10  5.62055542e-10 -3.90829282e-08\n",
      " -3.32014129e-08 -2.23936276e-06 -1.47642331e-05 -2.69712640e-04\n",
      " -2.69712316e-03 -1.13460209e-02 -2.36209053e-01 -3.75212890e-01\n",
      " -8.47969681e-01 -6.41653482e-01 -8.96600162e-01  9.98703422e-01\n",
      "  9.99660519e-01 -5.62010831e-01 -9.96546575e-01 -7.57115408e-01\n",
      "  9.89217915e-01]\n",
      "m) sen(pi/2 + pi * 10^j) para 1 ≤ j ≤ 25\n",
      "[ 1.          1.          1.          1.          1.          1.\n",
      "  1.          1.          1.          1.          1.          0.99999996\n",
      "  0.99999494  0.99980709  0.95255937 -0.37521289 -0.84796968 -0.64165348\n",
      " -0.89660016  0.99870342  0.99966052 -0.56201083 -0.99654658 -0.75711541\n",
      "  0.98921791]\n"
     ]
    }
   ],
   "source": [
    "# a) Tomando p =1e34, q = 1, calcular p + q − p.\n",
    "p = 1e34 \n",
    "q = 1\n",
    "print(\"a) p + q − p = \", p + q - p)\n",
    "\n",
    "# b) Tomando p = 100, q =1e−15, calcular (p + q) + q y ((p + q) + q) + q\n",
    "p = 100\n",
    "q = 1e-15\n",
    "print(\"b) i) (p + q) + q = \", (p + q) + q)\n",
    "print(\"   ii) ((p + q) + q) + q = \", ((p + q) + q) + q)\n",
    "\n",
    "#c) 0.1+0.2 == 0.3\n",
    "print(\"c) 0.1+0.2 == 0.3 = \", 0.1+0.2 == 0.3)\n",
    "# d) 0.1+0.3 == 0.4\n",
    "print(\"d) 0.1+0.3 == 0.4 = \", 0.1+0.3 == 0.4)\n",
    "\n",
    "# e) 1e−323\n",
    "print(\"e) 1e^-323 = \", 1e-323)\n",
    "# f) 1e−324\n",
    "print(\"f) 1e^−324 = \", 1e-324)\n",
    "\n",
    "# g) epsilon / 2\n",
    "print(\"epsilon: \", np.finfo(float).eps)\n",
    "print(\"g) epsilon / 2 = \", np.finfo(float).eps / 2)\n",
    "\n",
    "# h) (1 + eps/2) + (eps/2)\n",
    "print(\"h) (1 + eps/2) + (eps/2) = \", (1 + np.finfo(float).eps/2) + (np.finfo(float).eps/2))\n",
    "\n",
    "# i) 1 + (eps/2 + eps/2)\n",
    "print(\"i) 1 + (eps/2 + eps/2) = \", 1 + (np.finfo(float).eps/2 + np.finfo(float).eps/2))\n",
    "\n",
    "# j) ((1 + eps/2) + eps/2) - 1\n",
    "print(\"j) ((1 + eps/2) + eps/2) - 1 = \", ((1 + np.finfo(float).eps/2) + np.finfo(float).eps/2) - 1)\n",
    "\n",
    "# k) (1 + (eps/2 + eps/2)) - 1\n",
    "print(\"k) (1 + (eps/2 + eps/2)) - 1 = \", (1 + (np.finfo(float).eps/2 + np.finfo(float).eps/2)) - 1)\n",
    "\n",
    "# l) sen(10^j pi) para 1 ≤ j ≤ 25\n",
    "j = np.arange(1, 26)\n",
    "senos = np.sin(10**j * np.pi)\n",
    "print(\"l) sen(10^j pi) para 1 ≤ j ≤ 25\")\n",
    "print(senos)\n",
    "\n",
    "# m) sen(pi/2 + pi * 10^j) para 1 ≤ j ≤ 25\n",
    "senos = np.sin(np.pi/2 + np.pi * 10**j)\n",
    "print(\"m) sen(pi/2 + pi * 10^j) para 1 ≤ j ≤ 25\")\n",
    "print(senos)"
   ]
  },
  {
   "cell_type": "markdown",
   "metadata": {},
   "source": [
    "### **Ejercicio 8.** \n",
    "\n",
    "Mostrar que una serie divergente de términos que tienden a 0 (e.g.: $\\sum_{n} \\frac{1}{n}$) podría resultar convergente en aritmetica de punto flotante. ¿Que deberia ocurrir para que el resultado numerico sea Inf? ¿Cual es la mejor estrategia para realizar numericamente una sumatoria de teerminos positivos?"
   ]
  },
  {
   "cell_type": "markdown",
   "metadata": {},
   "source": [
    "La serie armonica es divergente en matematicas, eso es trivial. Sin embargo en aritmetica de punto flotante, a medida que hacemos esa sumatoria estamos sumando numeros cada vez mas chicos a elementos \"grandes\" por lo que seria como sumar 0 para la computadora entonces los ignora. (como vimos en los ejemplos de arriba)\n",
    "Esto se puede ver en las clase `ejercicioclase2.ipynb` de la carpeta `Laboratorio`"
   ]
  },
  {
   "cell_type": "markdown",
   "metadata": {},
   "source": [
    "### **Ejercicio 9.** Para las siguientes matrices:"
   ]
  },
  {
   "cell_type": "markdown",
   "metadata": {},
   "source": [
    "$A=\\left(\\begin{array}{ccc}1 & 2 & 1 \\\\ 2 & 3-\\varepsilon & 2+\\varepsilon \\\\ 0 & 1+\\varepsilon & \\varepsilon\\end{array}\\right) \\quad b=\\left(\\begin{array}{c}0 \\\\ 0.1 \\\\ 0.1\\end{array}\\right)$\n",
    "\n",
    "\n",
    "a) Tomando ε = 0.001, resolver el sistema Ax = b mediante eliminacion gaussiana sin intercambio de filas usando aritmetica de punto flotante en base 10 con 3 d´ıgitos de mantisa y sistema de redondo"
   ]
  },
  {
   "cell_type": "code",
   "execution_count": 10,
   "metadata": {},
   "outputs": [],
   "source": [
    "# Defino matriz A y b\n",
    "eps = 0.001\n",
    "A = np.array([[1,2,1],\n",
    "              [2,3-eps,2+eps],\n",
    "              [0,1+eps,eps]])\n",
    "\n",
    "b = np.array([0, 0.1, 0.1])"
   ]
  },
  {
   "cell_type": "code",
   "execution_count": 12,
   "metadata": {},
   "outputs": [
    {
     "name": "stdout",
     "output_type": "stream",
     "text": [
      "Solución del sistema Ax = b: [-100.    0.  100.]\n"
     ]
    }
   ],
   "source": [
    "def round_float(value, digits=3):\n",
    "    \"\"\"Redondea un valor flotante a la precisión dada en base 10.\"\"\"\n",
    "    return float(f\"{value:.{digits}g}\")\n",
    "\n",
    "def gauss_elimination(A, b):\n",
    "    \"\"\"Resuelve el sistema Ax = b usando eliminación gaussiana sin intercambio de filas\n",
    "    con aritmética de punto flotante redondeada a 3 dígitos de mantisa.\n",
    "    \"\"\"\n",
    "    n = len(b)\n",
    "    \n",
    "    # Aplicar eliminación gaussiana\n",
    "    for i in range(n):\n",
    "        # Normalización del pivote\n",
    "        pivot = A[i, i]\n",
    "        for j in range(i, n):\n",
    "            A[i, j] = round_float(A[i, j] / pivot)\n",
    "        b[i] = round_float(b[i] / pivot)\n",
    "        \n",
    "        # Eliminación hacia abajo\n",
    "        for k in range(i + 1, n):\n",
    "            factor = A[k, i]\n",
    "            for j in range(i, n):\n",
    "                A[k, j] = round_float(A[k, j] - factor * A[i, j])\n",
    "            b[k] = round_float(b[k] - factor * b[i])\n",
    "\n",
    "    # Sustitución hacia atrás\n",
    "    x = np.zeros(n)\n",
    "    for i in range(n - 1, -1, -1):\n",
    "        x[i] = round_float(b[i])\n",
    "        for j in range(i + 1, n):\n",
    "            x[i] = round_float(x[i] - A[i, j] * x[j])\n",
    "    \n",
    "    return x\n",
    "\n",
    "# Llamar a la función con los datos\n",
    "x = gauss_elimination(A.copy(), b.copy())\n",
    "print(\"Solución del sistema Ax = b:\", x)"
   ]
  },
  {
   "attachments": {
    "image.png": {
     "image/png": "[encoded data removed]"
    }
   },
   "cell_type": "markdown",
   "metadata": {},
   "source": [
    "## ![image.png](attachment:image.png)"
   ]
  },
  {
   "cell_type": "code",
   "execution_count": 4,
   "metadata": {},
   "outputs": [
    {
     "data": {
      "text/plain": [
       "np.float64(6.0)"
      ]
     },
     "execution_count": 4,
     "metadata": {},
     "output_type": "execute_result"
    }
   ],
   "source": [
    "# Creamos A\n",
    "A = np.array([[3,   0,   0],\n",
    "              [0, 5/4, 3/4],\n",
    "              [0, 3/4, 5/4]])\n",
    "\n",
    "# Calculamos Cond_inf(A)\n",
    "np.linalg.cond(A, np.inf)"
   ]
  }
 ],
 "metadata": {
  "kernelspec": {
   "display_name": "alc",
   "language": "python",
   "name": "python3"
  },
  "language_info": {
   "codemirror_mode": {
    "name": "ipython",
    "version": 3
   },
   "file_extension": ".py",
   "mimetype": "text/x-python",
   "name": "python",
   "nbconvert_exporter": "python",
   "pygments_lexer": "ipython3",
   "version": "3.12.2"
  }
 },
 "nbformat": 4,
 "nbformat_minor": 2
}
