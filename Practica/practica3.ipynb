{
 "cells": [
  {
   "cell_type": "code",
   "execution_count": 1,
   "metadata": {},
   "outputs": [],
   "source": [
    "import numpy as np"
   ]
  },
  {
   "cell_type": "markdown",
   "metadata": {},
   "source": [
    "## **Ejercicio 3**. Escribir funciones que calculen la solución de un sistema:\n",
    "\n",
    "### (a) Ly = b, siendo L triangular inferior.\n",
    "### (b) Ux = y, siendo U triangular superior"
   ]
  },
  {
   "cell_type": "code",
   "execution_count": 2,
   "metadata": {},
   "outputs": [],
   "source": [
    "def Ly(L,y):\n",
    "    \"\"\" \n",
    "    Calcula el producto matricial de una matriz triangular inferior por un vector\n",
    "    Args:\n",
    "        L (array): matriz triangular inferior\n",
    "        y (array): vector\n",
    "    Return:\n",
    "        b (array): producto matricial de L por y\n",
    "    \"\"\"\n",
    "    L = np.array(L)\n",
    "    y = np.array(y)\n",
    "    n = len(y)\n",
    "    b = np.zeros(n)\n",
    "    \n",
    "    for i in range(n):\n",
    "        b[i] = np.dot(L[i,:i+1],y[:i+1])\n",
    "    \n",
    "    return b\n",
    "    \n",
    "def Ux(U,x):\n",
    "    \"\"\"\n",
    "    Calcula el producto matricial de una matriz triangular superior por un vector\n",
    "    Args:\n",
    "        U (array): matriz triangular superior\n",
    "        x (array): vector\n",
    "    Return:\n",
    "        y (array): producto matricial de U por x\n",
    "    \"\"\"\n",
    "    U = np.array(U)\n",
    "    x = np.array(x)\n",
    "    n = len(x)\n",
    "    y = np.zeros(n)\n",
    "    \n",
    "    for i in range(n-1,-1,-1):\n",
    "        y[i] = np.dot(U[i,i:],x[i:])\n",
    "    \n",
    "    return y"
   ]
  },
  {
   "cell_type": "code",
   "execution_count": 10,
   "metadata": {},
   "outputs": [
    {
     "name": "stdout",
     "output_type": "stream",
     "text": [
      "L =\n",
      " [[1 0 0]\n",
      " [2 3 0]\n",
      " [4 5 6]]\n",
      "\n",
      "y =  [1 2 3]\n",
      "Producto matricial de L por y [ 1.  8. 32.]\n"
     ]
    }
   ],
   "source": [
    "L = np.array([[1,0,0],\n",
    "              [2,3,0],\n",
    "              [4,5,6]])\n",
    "print(\"L =\\n\",L)\n",
    "y = np.array([1,2,3])\n",
    "print(\"\\ny = \",y)\n",
    "print(\"Producto matricial de L por y\",Ly(L,y))"
   ]
  },
  {
   "cell_type": "code",
   "execution_count": 11,
   "metadata": {},
   "outputs": [
    {
     "name": "stdout",
     "output_type": "stream",
     "text": [
      "U = \n",
      " [[1 2 3]\n",
      " [0 4 5]\n",
      " [0 0 6]]\n",
      "\n",
      "x =  [1 2 3]\n",
      "Producto matricial de U por x =  [14. 23. 18.]\n"
     ]
    }
   ],
   "source": [
    "U = np.array([[1,2,3],\n",
    "              [0,4,5],\n",
    "              [0,0,6]])\n",
    "\n",
    "print(\"U = \\n\",U)\n",
    "\n",
    "x = np.array([1,2,3])\n",
    "print(\"\\nx = \",x)\n",
    "\n",
    "print(\"Producto matricial de U por x = \",Ux(U,x))"
   ]
  },
  {
   "cell_type": "markdown",
   "metadata": {},
   "source": [
    "## **Ejercicio 4**. Escribir funciones de Python que realicen las siguientes tareas:\n",
    "### (a) Calcular la descomposición LU de una matriz dada A, asumiendo que no es necesario realizar pivoteos"
   ]
  },
  {
   "cell_type": "code",
   "execution_count": 52,
   "metadata": {},
   "outputs": [
    {
     "name": "stdout",
     "output_type": "stream",
     "text": [
      "L = \n",
      " [[ 1.  0.  0.  0.]\n",
      " [-2.  1.  0.  0.]\n",
      " [ 1.  0.  1.  0.]\n",
      " [-2.  0.  0.  1.]]\n",
      "L = \n",
      " [[ 1.  0.  0.  0.]\n",
      " [-2.  1.  0.  0.]\n",
      " [ 1. -3.  1.  0.]\n",
      " [-2.  1.  0.  1.]]\n",
      "L = \n",
      " [[ 1.  0.  0.  0.]\n",
      " [-2.  1.  0.  0.]\n",
      " [ 1. -3.  1.  0.]\n",
      " [-2.  1. -3.  1.]]\n",
      "A = \n",
      " [[  2.   1.   2.   3.]\n",
      " [  0.   1.  -1.  -3.]\n",
      " [  0.   0.   1.   0.]\n",
      " [  0.   0.   0. -12.]]\n"
     ]
    }
   ],
   "source": [
    "# Testeo con la matriz del pdf\n",
    "A= np.array([[2,1,2,3],\n",
    "              [4,3,3,3],\n",
    "              [-2,2,-4,-12],\n",
    "              [4,1,8,-3]])\n",
    "\n",
    "n = A.shape[0]\n",
    "# Sé que la primer fila de L solo tiene 1 en la diagonal, i.e. L[0,0] = 1\n",
    "\n",
    "L = np.eye(n)\n",
    "for i in range(n-1):\n",
    "    L_i = np.eye(n)\n",
    "    for j in range(i+1,n):\n",
    "        L[j,i] = -(A[j,i]/A[i,i])\n",
    "        L_i[j,i] = -(A[j,i]/A[i,i])\n",
    "    print(\"L = \\n\",L)\n",
    "    A = np.dot(L_i,A)\n",
    "\n",
    "print(\"A = \\n\",A)"
   ]
  },
  {
   "cell_type": "code",
   "execution_count": 53,
   "metadata": {},
   "outputs": [],
   "source": [
    "def descomposicion_LU(A):\n",
    "    \"\"\"\n",
    "    Realiza la descomposición LU de una matriz cuadrada A asumiendo que no es necesario realizar pivoteos\n",
    "    Args:\n",
    "        A (array): matriz cuadrada\n",
    "    Return:\n",
    "        L (array): matriz triangular inferior\n",
    "        U (array): matriz triangular superior\n",
    "    \"\"\"\n",
    "    A = np.array(A)\n",
    "    n = A.shape[0]\n",
    "    L = np.eye(n)\n",
    "    for i in range(n-1):\n",
    "        L_i = np.eye(n) # Me hago la L_{i} que va a hacer que la columna i de A sea 0 en la parte inferior\n",
    "\n",
    "        for j in range(i+1,n):\n",
    "            L[j,i] = -(A[j,i]/A[i,i]) # Los elementos de la matriz L son los multiplicadores de la eliminación de Gauss\n",
    "            L_i[j,i] = -(A[j,i]/A[i,i])\n",
    "\n",
    "        A = np.dot(L_i,A) # Actualizo A\n",
    "\n",
    "    U = A\n",
    "    return L,U\n"
   ]
  },
  {
   "cell_type": "code",
   "execution_count": 56,
   "metadata": {},
   "outputs": [
    {
     "name": "stdout",
     "output_type": "stream",
     "text": [
      "\n",
      "L = \n",
      " [[ 1.  0.  0.  0.]\n",
      " [-2.  1.  0.  0.]\n",
      " [ 1. -3.  1.  0.]\n",
      " [-2.  1. -3.  1.]]\n",
      "\n",
      "U = \n",
      " [[  2.   1.   2.   3.]\n",
      " [  0.   1.  -1.  -3.]\n",
      " [  0.   0.   1.   0.]\n",
      " [  0.   0.   0. -12.]]\n"
     ]
    }
   ],
   "source": [
    "A= np.array([[2,1,2,3],\n",
    "              [4,3,3,3],\n",
    "              [-2,2,-4,-12],\n",
    "              [4,1,8,-3]])\n",
    "\n",
    "L,U = descomposicion_LU(A)\n",
    "print(\"\\nL = \\n\",L)\n",
    "print(\"\\nU = \\n\",U)"
   ]
  }
 ],
 "metadata": {
  "kernelspec": {
   "display_name": "alc",
   "language": "python",
   "name": "python3"
  },
  "language_info": {
   "codemirror_mode": {
    "name": "ipython",
    "version": 3
   },
   "file_extension": ".py",
   "mimetype": "text/x-python",
   "name": "python",
   "nbconvert_exporter": "python",
   "pygments_lexer": "ipython3",
   "version": "3.12.2"
  }
 },
 "nbformat": 4,
 "nbformat_minor": 2
}
