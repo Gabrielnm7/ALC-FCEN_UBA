{
 "cells": [
  {
   "cell_type": "code",
   "execution_count": 1,
   "metadata": {},
   "outputs": [],
   "source": [
    "import numpy as np"
   ]
  },
  {
   "cell_type": "markdown",
   "metadata": {},
   "source": [
    "## **Ejercicio 3**. Escribir funciones que calculen la solución de un sistema:\n",
    "\n",
    "### (a) Ly = b, siendo L triangular inferior.\n",
    "### (b) Ux = y, siendo U triangular superior"
   ]
  },
  {
   "cell_type": "code",
   "execution_count": 17,
   "metadata": {},
   "outputs": [
    {
     "data": {
      "text/plain": [
       "array([0., 0., 0.])"
      ]
     },
     "execution_count": 17,
     "metadata": {},
     "output_type": "execute_result"
    }
   ],
   "source": [
    "np.zeros(3)"
   ]
  },
  {
   "cell_type": "code",
   "execution_count": 21,
   "metadata": {},
   "outputs": [],
   "source": [
    "def Ly(L,b):\n",
    "    \"\"\"\n",
    "    Resuelve el sistema Ly = b donde L es una matriz triangular inferior.\n",
    "    \n",
    "    Args:\n",
    "        L (array): Matriz triangular inferior.\n",
    "        b (array): Vector de términos independientes.\n",
    "        \n",
    "    Returns:\n",
    "        y (array): Solución del sistema Ly = b.\n",
    "    \"\"\"\n",
    "    L = np.array(L)\n",
    "    b = np.array(b)\n",
    "    n = len(b)\n",
    "    y = np.zeros(n)\n",
    "    \n",
    "    y[0] = b[0]\n",
    "    for i in range(1,n):\n",
    "        y[i] = b[i] - np.dot(L[i,:i],y[:i]) # Similar a como lo hice goatcheverry\n",
    "    return y\n",
    "    \n",
    "def Ux(U,x):\n",
    "    \"\"\"\n",
    "    Calcula el producto matricial de una matriz triangular superior por un vector\n",
    "    Args:\n",
    "        U (array): matriz triangular superior\n",
    "        x (array): vector\n",
    "    Return:\n",
    "        y (array): producto matricial de U por x\n",
    "    \"\"\"\n",
    "    U = np.array(U)\n",
    "    x = np.array(x)\n",
    "    n = len(x)\n",
    "    y = np.zeros(n)\n",
    "    \n",
    "    for i in range(n-1,-1,-1):\n",
    "        y[i] = np.dot(U[i,i:],x[i:])\n",
    "    \n",
    "    return y"
   ]
  },
  {
   "cell_type": "markdown",
   "metadata": {},
   "source": [
    "## **Ejercicio 4**. Escribir funciones de Python que realicen las siguientes tareas:\n"
   ]
  },
  {
   "cell_type": "markdown",
   "metadata": {},
   "source": [
    "### (a) Calcular la descomposición LU de una matriz dada A, asumiendo que no es necesario realizar pivoteos"
   ]
  },
  {
   "cell_type": "code",
   "execution_count": 5,
   "metadata": {},
   "outputs": [
    {
     "name": "stdout",
     "output_type": "stream",
     "text": [
      "L_1 = \n",
      " [[ 1.  0.  0.  0.]\n",
      " [-2.  1.  0.  0.]\n",
      " [ 1.  0.  1.  0.]\n",
      " [-2.  0.  0.  1.]]\n",
      "A_1 = \n",
      " [[ 2.  1.  2.  3.]\n",
      " [ 0.  1. -1. -3.]\n",
      " [ 0.  3. -2. -9.]\n",
      " [ 0. -1.  4. -9.]]\n",
      "L_2 = \n",
      " [[ 1.  0.  0.  0.]\n",
      " [ 0.  1.  0.  0.]\n",
      " [ 0. -3.  1.  0.]\n",
      " [ 0.  1.  0.  1.]]\n",
      "A_2 = \n",
      " [[  2.   1.   2.   3.]\n",
      " [  0.   1.  -1.  -3.]\n",
      " [  0.   0.   1.   0.]\n",
      " [  0.   0.   3. -12.]]\n",
      "L_3 = \n",
      " [[ 1.  0.  0.  0.]\n",
      " [ 0.  1.  0.  0.]\n",
      " [ 0.  0.  1.  0.]\n",
      " [ 0.  0. -3.  1.]]\n",
      "A_3 = \n",
      " [[  2.   1.   2.   3.]\n",
      " [  0.   1.  -1.  -3.]\n",
      " [  0.   0.   1.   0.]\n",
      " [  0.   0.   0. -12.]]\n",
      "L = \n",
      " [[ 1.  0.  0.  0.]\n",
      " [-2.  1.  0.  0.]\n",
      " [ 1. -3.  1.  0.]\n",
      " [-2.  1. -3.  1.]]\n",
      "U = \n",
      " [[  2.   1.   2.   3.]\n",
      " [  0.   1.  -1.  -3.]\n",
      " [  0.   0.   1.   0.]\n",
      " [  0.   0.   0. -12.]]\n"
     ]
    }
   ],
   "source": [
    "# Testeo con la matriz del pdf\n",
    "A= np.array([[2,1,2,3],\n",
    "              [4,3,3,3],\n",
    "              [-2,2,-4,-12],\n",
    "              [4,1,8,-3]])\n",
    "\n",
    "n = A.shape[0]\n",
    "# Sé que la primer fila de L solo tiene 1 en la diagonal, i.e. L[0,0] = 1\n",
    "\n",
    "L = np.eye(n)\n",
    "for i in range(n-1):\n",
    "    L_i = np.eye(n)\n",
    "    for j in range(i+1,n):\n",
    "        L[j,i] = -(A[j,i]/A[i,i])\n",
    "        L_i[j,i] = -(A[j,i]/A[i,i])\n",
    "    \n",
    "    print(f\"L_{i+1} = \\n\",L_i)\n",
    "    A = np.dot(L_i,A)\n",
    "    print(f\"A_{i+1} = \\n\",A)\n",
    "\n",
    "print(\"L = \\n\",L)\n",
    "print(\"U = \\n\",A)"
   ]
  },
  {
   "cell_type": "code",
   "execution_count": 2,
   "metadata": {},
   "outputs": [],
   "source": [
    "def descomposicion_LU(A):\n",
    "    \"\"\"\n",
    "    Realiza la descomposición LU de una matriz cuadrada A asumiendo que no es necesario realizar pivoteos\n",
    "    Args:\n",
    "        A (array): matriz cuadrada\n",
    "    Return:\n",
    "        L (array): matriz triangular inferior\n",
    "        U (array): matriz triangular superior\n",
    "    \"\"\"\n",
    "    A = np.array(A)\n",
    "    n = A.shape[0]\n",
    "    L = np.eye(n)\n",
    "    U = A.copy()\n",
    "   \n",
    "    for i in range(n-1):\n",
    "        for j in range(i+1, n):\n",
    "            # Calculamos los factores de la matriz de eliminación de Gauss\n",
    "            factor = U[j, i] / U[i, i]\n",
    "            L[j, i] = factor  # Guarda el factor en la columna i de L\n",
    "            # Actualiza la fila j de U\n",
    "            U[j, i:] = U[j, i:] - factor * U[i, i:]\n",
    "\n",
    "    return L, U\n"
   ]
  },
  {
   "cell_type": "code",
   "execution_count": 6,
   "metadata": {},
   "outputs": [
    {
     "name": "stdout",
     "output_type": "stream",
     "text": [
      "\n",
      "L = \n",
      " [[ 1.  0.  0.  0.]\n",
      " [ 2.  1.  0.  0.]\n",
      " [-1.  3.  1.  0.]\n",
      " [ 2. -1.  3.  1.]]\n",
      "\n",
      "U = \n",
      " [[  2   1   2   3]\n",
      " [  0   1  -1  -3]\n",
      " [  0   0   1   0]\n",
      " [  0   0   0 -12]]\n",
      "\n",
      "L@U = \n",
      " [[  2.   1.   2.   3.]\n",
      " [  4.   3.   3.   3.]\n",
      " [ -2.   2.  -4. -12.]\n",
      " [  4.   1.   8.  -3.]]\n",
      "\n",
      "A = \n",
      " [[  2   1   2   3]\n",
      " [  4   3   3   3]\n",
      " [ -2   2  -4 -12]\n",
      " [  4   1   8  -3]]\n"
     ]
    },
    {
     "data": {
      "text/plain": [
       "array([[ True,  True,  True,  True],\n",
       "       [ True,  True,  True,  True],\n",
       "       [ True,  True,  True,  True],\n",
       "       [ True,  True,  True,  True]])"
      ]
     },
     "execution_count": 6,
     "metadata": {},
     "output_type": "execute_result"
    }
   ],
   "source": [
    "A= np.array([[2,1,2,3],\n",
    "              [4,3,3,3],\n",
    "              [-2,2,-4,-12],\n",
    "              [4,1,8,-3]])\n",
    "\n",
    "L,U = descomposicion_LU(A)\n",
    "print(\"\\nL = \\n\",L)\n",
    "print(\"\\nU = \\n\",U)\n",
    "\n",
    "# Nos fijamos si L@U == A\n",
    "print(\"\\nL@U = \\n\",L@U)\n",
    "print(\"\\nA = \\n\",A)\n",
    "L@U == A"
   ]
  },
  {
   "cell_type": "markdown",
   "metadata": {},
   "source": [
    "### (b) Resolver un sistema $Ax = b$, utilizando la función del ítem anterior y las del ejercicio 3. Aplicar esta función para resolver el ítem c. del ejercicio 2"
   ]
  },
  {
   "cell_type": "markdown",
   "metadata": {},
   "source": [
    "Sea $\\boldsymbol{A}=\\left(\\begin{array}{cccc}1 & -1 & 0 & 1 \\\\ 0 & 1 & 4 & 0 \\\\ 2 & -1 & 0 & -2 \\\\ -3 & 3 & 0 & -1\\end{array}\\right) \\in \\mathbb{R}^{4 \\times 4}$ del ejercicio 2 y usando la descomposición LU de A resolvemos el sistema $\\boldsymbol{A} \\boldsymbol{x}=\\boldsymbol{b}$, $\\operatorname{para} \\boldsymbol{b}=\\left(\\begin{array}{c}1 \\\\ -7 \\\\ -5 \\\\ 1\\end{array}\\right)$"
   ]
  },
  {
   "cell_type": "code",
   "execution_count": 43,
   "metadata": {},
   "outputs": [
    {
     "name": "stdout",
     "output_type": "stream",
     "text": [
      "\n",
      "L = \n",
      " [[ 1.  0.  0.  0.]\n",
      " [ 0.  1.  0.  0.]\n",
      " [ 2.  1.  1.  0.]\n",
      " [-3.  0. -0.  1.]]\n",
      "\n",
      "U = \n",
      " [[ 1 -1  0  1]\n",
      " [ 0  1  4  0]\n",
      " [ 0  0 -4 -4]\n",
      " [ 0  0  0  2]]\n",
      "\n",
      "y =  [ 1. -7.  0.  4.]\n",
      "\n",
      "x =  [ 12.  -7. -16.   8.]\n"
     ]
    }
   ],
   "source": [
    "A = np.array([[1,-1,0,1],\n",
    "              [0,1,4,0],\n",
    "              [2,-1,0,-2],\n",
    "              [-3,3,0,-1]])\n",
    "\n",
    "L,U = descomposicion_LU(A)\n",
    "print(\"\\nL = \\n\",L)\n",
    "print(\"\\nU = \\n\",U)\n",
    "\n",
    "# Para resolver Ax = b, primero resuelvo Ly = b y luego Ux = y\n",
    "\n",
    "b = np.array([1,-7,-5,1])\n",
    "\n",
    "y = Ly(L,b)\n",
    "print(\"\\ny = \",y)\n",
    "\n",
    "x = Ux(U,y)\n",
    "print(\"\\nx = \",x)\n",
    "\n"
   ]
  },
  {
   "cell_type": "code",
   "execution_count": null,
   "metadata": {},
   "outputs": [],
   "source": []
  }
 ],
 "metadata": {
  "kernelspec": {
   "display_name": "alc",
   "language": "python",
   "name": "python3"
  },
  "language_info": {
   "codemirror_mode": {
    "name": "ipython",
    "version": 3
   },
   "file_extension": ".py",
   "mimetype": "text/x-python",
   "name": "python",
   "nbconvert_exporter": "python",
   "pygments_lexer": "ipython3",
   "version": "3.12.2"
  }
 },
 "nbformat": 4,
 "nbformat_minor": 2
}
