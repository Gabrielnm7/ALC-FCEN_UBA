{
 "cells": [
  {
   "cell_type": "code",
   "execution_count": 2,
   "metadata": {},
   "outputs": [],
   "source": [
    "import numpy as np"
   ]
  },
  {
   "cell_type": "markdown",
   "metadata": {},
   "source": [
    "### Consigna 1\n"
   ]
  },
  {
   "cell_type": "markdown",
   "metadata": {},
   "source": [
    "Tenemos que probar que \n",
    "$$\n",
    "(I - A)^{-1} = I + A + A^2 + A^3 + \\dots + A^n + \\dots => \\lim_{n \\to \\infty} A^{n+1} = 0\n",
    "$$\n",
    "\n",
    "Empecemos viendo la siguiente igualdad:\n",
    "\n",
    "$$\n",
    "(I - A)^{-1} = I + A + A^2 + A^3 + \\dots\n",
    "$$\n",
    "\n",
    "Aca, la suma infinita es una serie geométrica aplicada a matrices. La inversa de $I - A$ se está descomponiendo en la suma de las potencias de $A$, similar a lo que sucede en la serie geométrica para números reales:\n",
    "$$\n",
    "\\frac{1}{1 - x} = 1 + x + x^2 + x^3 + \\dots\n",
    "$$\n",
    "donde $ |x| < 1 $.\n",
    "\n",
    "Para demostrar lo que nos piden, comenzamos con la expresión finita de la serie, truncada en el término $n$, es decir:\n",
    "\n",
    "$$\n",
    "S_n = I + A + A^2 + A^3 + \\dots + A^n\n",
    "$$\n",
    "\n",
    "Multiplicamos ambos lados por $I - A$:\n",
    "\n",
    "$$\n",
    "(I - A)S_n = (I - A)(I + A + A^2 + A^3 + \\dots + A^n)\n",
    "$$\n",
    "\n",
    "El lado derecho se simplifica utilizando las propiedades distributivas y cancelando términos sucesivos:\n",
    "\n",
    "$$\n",
    "(I - A)(I + A + A^2 + \\dots + A^n) = I - A^{n+1}\n",
    "$$\n",
    "\n",
    "De este modo, obtenemos la relación:\n",
    "\n",
    "$$\n",
    "(I - A)S_n = I - A^{n+1}\n",
    "$$\n",
    "\n",
    "Sabemos que $ (I - A)^{-1}$ es la suma **infinita** de las potencias de $A$, por lo que cuando $n \\to \\infty$, la serie truncada $S_n$ tiende a la inversa de $I - A$:\n",
    "\n",
    "$$\n",
    "S_n \\to (I - A)^{-1} \\quad \\text{cuando} \\quad n \\to \\infty\n",
    "$$\n",
    "\n",
    "Por lo tanto, tomando el límite cuando $n \\to \\infty$ en la ecuación: \n",
    "$$(I - A)S_n = I - A^{n+1}$$\n",
    "obtenemos:\n",
    "\n",
    "$$\n",
    "(I - A)(I - A)^{-1} = \\lim_{n \\to \\infty} I - A^{n+1}\n",
    "$$\n",
    "\n",
    "aplicando las propiedades basicas de limite y dado que $ (I - A)(I - A)^{-1} = I $, obtenemos:\n",
    "\n",
    "$$\n",
    "I =  I - \\lim_{n \\to \\infty} A^{n+1}\n",
    "$$\n",
    "\n",
    "Por lo que se deduce:\n",
    "\n",
    "$$\n",
    "\\lim_{n \\to \\infty} A^{n+1} = 0\n",
    "$$"
   ]
  },
  {
   "cell_type": "code",
   "execution_count": null,
   "metadata": {},
   "outputs": [],
   "source": []
  }
 ],
 "metadata": {
  "kernelspec": {
   "display_name": "Python 3",
   "language": "python",
   "name": "python3"
  },
  "language_info": {
   "codemirror_mode": {
    "name": "ipython",
    "version": 3
   },
   "file_extension": ".py",
   "mimetype": "text/x-python",
   "name": "python",
   "nbconvert_exporter": "python",
   "pygments_lexer": "ipython3",
   "version": "3.9.5"
  }
 },
 "nbformat": 4,
 "nbformat_minor": 2
}
