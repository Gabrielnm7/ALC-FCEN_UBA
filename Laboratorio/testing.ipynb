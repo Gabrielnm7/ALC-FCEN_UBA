{
 "cells": [
  {
   "cell_type": "code",
   "execution_count": 1,
   "metadata": {},
   "outputs": [],
   "source": [
    "import numpy"
   ]
  },
  {
   "cell_type": "code",
   "execution_count": 3,
   "metadata": {},
   "outputs": [
    {
     "name": "stdout",
     "output_type": "stream",
     "text": [
      "[[ 0.5  0.5 -0.5]\n",
      " [-0.5  0.5  0.5]\n",
      " [ 0.5 -0.5  0.5]]\n"
     ]
    }
   ],
   "source": [
    "# CReamos una matriz de 3x3\n",
    "A = numpy.array([[1, 0, 1], \n",
    "                 [1, 1, 0], \n",
    "                 [0, 1, 1]])\n",
    "\n",
    "# Calculamos la inversa de la matriz\n",
    "A_inv = numpy.linalg.inv(A)\n",
    "print(A_inv)"
   ]
  },
  {
   "cell_type": "code",
   "execution_count": 5,
   "metadata": {},
   "outputs": [
    {
     "data": {
      "text/plain": [
       "array([1., 0., 0.])"
      ]
     },
     "execution_count": 5,
     "metadata": {},
     "output_type": "execute_result"
    }
   ],
   "source": [
    "v = numpy.array([1, 1,0])\n",
    "\n",
    "# Multiplicamos la matriz inversa por el vector\n",
    "numpy.dot(A_inv, v)"
   ]
  }
 ],
 "metadata": {
  "kernelspec": {
   "display_name": "alc",
   "language": "python",
   "name": "python3"
  },
  "language_info": {
   "codemirror_mode": {
    "name": "ipython",
    "version": 3
   },
   "file_extension": ".py",
   "mimetype": "text/x-python",
   "name": "python",
   "nbconvert_exporter": "python",
   "pygments_lexer": "ipython3",
   "version": "3.12.2"
  }
 },
 "nbformat": 4,
 "nbformat_minor": 2
}
