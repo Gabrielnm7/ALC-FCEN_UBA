{
 "cells": [
  {
   "cell_type": "markdown",
   "metadata": {},
   "source": [
    "## Aritmética de punto flotante\n",
    "Link a conversor __[IEEE 754 precisión simple](https://www.h-schmidt.net/FloatConverter/IEEE754.html)__"
   ]
  },
  {
   "cell_type": "markdown",
   "metadata": {},
   "source": [
    "¿Qué está pasando?"
   ]
  },
  {
   "cell_type": "code",
   "execution_count": null,
   "metadata": {
    "scrolled": true
   },
   "outputs": [],
   "source": [
    "0.2 + 0.3"
   ]
  },
  {
   "cell_type": "code",
   "execution_count": null,
   "metadata": {},
   "outputs": [],
   "source": [
    "x = 0.3\n",
    "print(x)"
   ]
  },
  {
   "cell_type": "code",
   "execution_count": null,
   "metadata": {},
   "outputs": [],
   "source": [
    "0.3 - 0.2"
   ]
  },
  {
   "cell_type": "markdown",
   "metadata": {},
   "source": [
    "- ¿Cuánto da $(\\sqrt{2})^2 - 2$?\n"
   ]
  },
  {
   "cell_type": "code",
   "execution_count": 1,
   "metadata": {},
   "outputs": [
    {
     "data": {
      "text/plain": [
       "np.float64(4.440892098500626e-16)"
      ]
     },
     "execution_count": 1,
     "metadata": {},
     "output_type": "execute_result"
    }
   ],
   "source": [
    "import numpy as np\n",
    "np.sqrt(2)**2-2 "
   ]
  },
  {
   "cell_type": "markdown",
   "metadata": {},
   "source": [
    "- ¿Cuál es el límite cuando $n \\rightarrow \\infty$ de esta sucesión?\n",
    "$$\n",
    "\\begin{aligned}\n",
    "x_1 &= \\sqrt{2} \\\\\n",
    "x_{n+1} &= \\frac{x_n \\cdot x_n}{\\sqrt{2}}\n",
    "\\end{aligned}\n",
    "$$"
   ]
  },
  {
   "cell_type": "markdown",
   "metadata": {},
   "source": [
    "Si nos fijamos x_2 = x_1 ^ 2 y x_1 es raiz de 2. Entonces, queda que x_2 es raiz de dos, con x_3 lo mismo y asi.. entonces cuando n -> inf la sucesion x_n+1 tiende a sqrt(2)"
   ]
  },
  {
   "cell_type": "code",
   "execution_count": 9,
   "metadata": {},
   "outputs": [
    {
     "name": "stdout",
     "output_type": "stream",
     "text": [
      "1.4142135623730951\n",
      "inf\n"
     ]
    },
    {
     "name": "stderr",
     "output_type": "stream",
     "text": [
      "C:\\Users\\gabri\\AppData\\Local\\Temp\\ipykernel_7012\\1888132178.py:4: RuntimeWarning: overflow encountered in scalar multiply\n",
      "  x = (x * x) / np.sqrt(2)\n"
     ]
    }
   ],
   "source": [
    "x = np.sqrt(2)\n",
    "print(x)\n",
    "for i in range(1,100):\n",
    "    x = (x * x) / np.sqrt(2)\n",
    "\n",
    "print(x)"
   ]
  },
  {
   "cell_type": "markdown",
   "metadata": {},
   "source": [
    "## Acumulación de errores"
   ]
  },
  {
   "cell_type": "markdown",
   "metadata": {},
   "source": [
    "1. Se quiere calcular \n",
    "$$\n",
    "\\sum_{i=1}^{10^7} \\frac{1}{i} \\quad y \\quad \\sum_{i=1}^{2\\cdot10^7} \\frac{1}{i} \n",
    "$$\n",
    "usando aritmética de simple precisión (float32).\n",
    "\n",
    "Realizar para cada una de las expresiones un script que calcule el resultado. Qué se observa?"
   ]
  },
  {
   "cell_type": "code",
   "execution_count": 16,
   "metadata": {},
   "outputs": [],
   "source": [
    "eps = np.finfo(np.single).eps"
   ]
  },
  {
   "cell_type": "code",
   "execution_count": 29,
   "metadata": {
    "scrolled": true
   },
   "outputs": [
    {
     "name": "stdout",
     "output_type": "stream",
     "text": [
      "i =  8388609\n",
      "Haciendolo de izquierda a derecha, suma =  15.403683\n",
      "Haciendolo de derecha a izquierda, suma =  16.686031\n",
      "suma =  17.39009\n"
     ]
    }
   ],
   "source": [
    "import numpy as np\n",
    "\n",
    "n = 7\n",
    "s1 = np.float32(0)\n",
    "for i in range(1,(10**n)+1):\n",
    "    s1 += np.float32(1/np.float32(i))\n",
    "    if np.float32(1/np.float32(i)) < eps:\n",
    "        print(\"i = \", i)\n",
    "        break\n",
    "print(\"Haciendolo de izquierda a derecha, suma = \", s1)    \n",
    "s1 = np.float32(0)\n",
    "for i in range((10**n),0,-1):\n",
    "    s1 += np.float32(1/np.float32(i))\n",
    "\n",
    "print(\"Haciendolo de derecha a izquierda, suma = \", s1)\n",
    "s2 = np.float32(0)\n",
    "for i in range(2 * 10**n,0,-1):\n",
    "    # ** completar **\n",
    "    s2 += np.float32(1/np.float32(i))\n",
    "print(\"suma = \", s2)\n"
   ]
  },
  {
   "cell_type": "markdown",
   "metadata": {},
   "source": [
    "#### Notas personales:\n",
    "Sumar cosas muy chicas con algo de la misma magnitud no pierde mucha informacion. Pero si sumamos 1 + algo cada vez mas chico, eventualmente va a ser como sumar 0"
   ]
  },
  {
   "cell_type": "markdown",
   "metadata": {},
   "source": [
    "2. Utilizar las mismas estrategias para estimar $e$ mediante la serie\n",
    "$$\n",
    "e \\approx \\sum_{n=0}^{10} \\frac{1}{n!}.\n",
    "$$\n",
    "\n",
    "Comparar con el valor real."
   ]
  },
  {
   "cell_type": "code",
   "execution_count": 31,
   "metadata": {},
   "outputs": [],
   "source": [
    "import math"
   ]
  },
  {
   "cell_type": "code",
   "execution_count": 39,
   "metadata": {},
   "outputs": [
    {
     "name": "stdout",
     "output_type": "stream",
     "text": [
      "2.718281828459045\n",
      "suma = 2.7182817\n"
     ]
    }
   ],
   "source": [
    "print(np.exp(1))\n",
    "\n",
    "s = np.float32(0)\n",
    "for i in range(10,-1,-1):\n",
    "    s += np.float32(1.0/np.float32(math.factorial(i)))\n",
    "\n",
    "print('suma =', s)"
   ]
  },
  {
   "cell_type": "markdown",
   "metadata": {},
   "source": [
    "3. El siguiente código suma 1 10^8 veces. ¿Coincide la respuesta con el valor esperado? ¿Es posible modificar el código para calcular el valor correcto?"
   ]
  },
  {
   "cell_type": "code",
   "execution_count": 40,
   "metadata": {},
   "outputs": [
    {
     "name": "stdout",
     "output_type": "stream",
     "text": [
      "100000000\n",
      "16777216.0\n"
     ]
    }
   ],
   "source": [
    "print(10**8)\n",
    "\n",
    "c = np.float32(0)\n",
    "\n",
    "for i in range(10**8):\n",
    "    c += np.float32(1)\n",
    "\n",
    "print(c)\n"
   ]
  },
  {
   "cell_type": "code",
   "execution_count": 41,
   "metadata": {},
   "outputs": [
    {
     "name": "stdout",
     "output_type": "stream",
     "text": [
      "25000000.0\n"
     ]
    }
   ],
   "source": [
    "c = np.float32(0)\n",
    "# A medida que se suma 1 muchas veces, el numero se hace cada vez mas grande y luego al sumar 1 a un numero muy grande, \n",
    "# no se puede representar con la precision de un float32\n",
    "# Para evitar esto, podemos sumar \n",
    "for i in range(10**8):\n",
    "\n"
   ]
  }
 ],
 "metadata": {
  "kernelspec": {
   "display_name": "Python 3 (ipykernel)",
   "language": "python",
   "name": "python3"
  },
  "language_info": {
   "codemirror_mode": {
    "name": "ipython",
    "version": 3
   },
   "file_extension": ".py",
   "mimetype": "text/x-python",
   "name": "python",
   "nbconvert_exporter": "python",
   "pygments_lexer": "ipython3",
   "version": "3.12.2"
  }
 },
 "nbformat": 4,
 "nbformat_minor": 4
}
