{
 "cells": [
  {
   "cell_type": "markdown",
   "id": "e3ab12aa",
   "metadata": {},
   "source": [
    "### Función para escalonar filas\n",
    "(programita para triangular matrices)"
   ]
  },
  {
   "cell_type": "code",
   "execution_count": 1,
   "id": "b7fd1e14",
   "metadata": {},
   "outputs": [],
   "source": [
    "import numpy as np\n",
    "\n",
    "def escalonar_filas(M):\n",
    "    \"\"\" \n",
    "        Retorna la Matriz Escalonada por Filas \n",
    "    \"\"\"\n",
    "    A = np.copy(M)\n",
    "    if (issubclass(A.dtype.type, np.integer)):\n",
    "        A = A.astype(float)\n",
    "\n",
    "    # Si A no tiene filas o columnas, ya esta escalonada\n",
    "    f, c = A.shape\n",
    "    if f == 0 or c == 0:\n",
    "        return A\n",
    "\n",
    "    # buscamos primer elemento no nulo de la primera columna\n",
    "    i = 0\n",
    "    \n",
    "    while i < f and A[i,0] == 0:\n",
    "        i += 1\n",
    "\n",
    "    if i == f:\n",
    "        # si todos los elementos de la primera columna son ceros\n",
    "        # escalonamos filas desde la segunda columna\n",
    "        B = escalonar_filas(A[:,1:])\n",
    "        \n",
    "        # y volvemos a agregar la primera columna de zeros\n",
    "        return np.block([A[:,:1], B])\n",
    "\n",
    "\n",
    "    # intercambiamos filas i <-> 0, pues el primer cero aparece en la fila i\n",
    "    if i > 0:\n",
    "        A[[0,i],:] = A[[i,0],:]\n",
    "\n",
    "    # PASO DE TRIANGULACION GAUSSIANA:\n",
    "    # a las filas subsiguientes les restamos un multiplo de la primera\n",
    "    A[1:,:] -= (A[0,:] / A[0,0]) * A[1:,0:1]\n",
    "\n",
    "    # escalonamos desde la segunda fila y segunda columna en adelante\n",
    "    B = escalonar_filas(A[1:,1:])\n",
    "\n",
    "    # reconstruimos la matriz por bloques adosando a B la primera fila \n",
    "    # y la primera columna (de ceros)\n",
    "    return np.block([ [A[:1,:]], [ A[1:,:1], B] ])"
   ]
  },
  {
   "cell_type": "code",
   "execution_count": 2,
   "id": "07420055",
   "metadata": {},
   "outputs": [
    {
     "name": "stdout",
     "output_type": "stream",
     "text": [
      "[[ 0.+1.j -1.-1.j  0.+0.j]\n",
      " [ 1.+0.j -2.+0.j  1.+0.j]\n",
      " [ 1.+0.j  0.+2.j -1.+0.j]]\n"
     ]
    }
   ],
   "source": [
    "# esto es para resolver la practica 1\n",
    "A = np.array([[1j,-(1+1j),0],[1,-2,1],[1,2j,-1]])\n",
    "print(A)"
   ]
  },
  {
   "cell_type": "code",
   "execution_count": 3,
   "id": "f9f270ac",
   "metadata": {},
   "outputs": [
    {
     "name": "stdout",
     "output_type": "stream",
     "text": [
      "[[ 0.+1.j -1.-1.j  0.+0.j]\n",
      " [ 0.+0.j -1.-1.j  1.+0.j]\n",
      " [ 0.+0.j  0.+0.j  0.+0.j]]\n"
     ]
    }
   ],
   "source": [
    "print(escalonar_filas(A))"
   ]
  },
  {
   "cell_type": "code",
   "execution_count": 4,
   "id": "7b2fc479",
   "metadata": {},
   "outputs": [
    {
     "name": "stdout",
     "output_type": "stream",
     "text": [
      "[[ 2.+0.j -1.+1.j  0.+0.j  1.+0.j]\n",
      " [-1.+0.j  3.+0.j -0.-3.j  5.+0.j]]\n"
     ]
    }
   ],
   "source": [
    "A = np.array([[2,-1+1j,0,1],[-1,3,-3j,5]])\n",
    "print(A)"
   ]
  },
  {
   "cell_type": "code",
   "execution_count": 5,
   "id": "7b956888",
   "metadata": {},
   "outputs": [
    {
     "name": "stdout",
     "output_type": "stream",
     "text": [
      "[[ 2. +0.j  -1. +1.j   0. +0.j   1. +0.j ]\n",
      " [ 0. +0.j   2.5+0.5j  0. -3.j   5.5+0.j ]]\n"
     ]
    }
   ],
   "source": [
    "print(escalonar_filas(A))"
   ]
  },
  {
   "cell_type": "code",
   "execution_count": 6,
   "id": "557d4011",
   "metadata": {},
   "outputs": [
    {
     "name": "stdout",
     "output_type": "stream",
     "text": [
      "[[ 2. +0.j  -1. +1.j   0. +0.j   1. +0.j ]\n",
      " [ 0. +0.j   2.5+0.5j  0. -3.j   5.5+0.j ]]\n"
     ]
    }
   ],
   "source": [
    "print(escalonar_filas(A))"
   ]
  },
  {
   "cell_type": "code",
   "execution_count": 7,
   "id": "9576b032",
   "metadata": {},
   "outputs": [
    {
     "name": "stdout",
     "output_type": "stream",
     "text": [
      "[[ 1  2  3  4]\n",
      " [ 1  2  3  4]\n",
      " [ 5  6  7  8]\n",
      " [ 9 10 11 12]]\n"
     ]
    }
   ],
   "source": [
    "# OJO... puede hacer algunas operaciones de cambios de fila!\n",
    "A = np.array([[1,2,3,4], [1,2,3,4],[5,6,7,8],[9,10,11,12]])\n",
    "print(A)"
   ]
  },
  {
   "cell_type": "code",
   "execution_count": 8,
   "id": "9c6e67c1",
   "metadata": {},
   "outputs": [
    {
     "name": "stdout",
     "output_type": "stream",
     "text": [
      "[[  1.   2.   3.   4.]\n",
      " [  0.  -4.  -8. -12.]\n",
      " [  0.   0.   0.   0.]\n",
      " [  0.   0.   0.   0.]]\n"
     ]
    }
   ],
   "source": [
    "print(escalonar_filas(A))"
   ]
  },
  {
   "cell_type": "code",
   "execution_count": 9,
   "id": "366367f0",
   "metadata": {},
   "outputs": [
    {
     "name": "stdout",
     "output_type": "stream",
     "text": [
      "[[ 5.  3. 11.]\n",
      " [ 0.  0.  0.]\n",
      " [ 0.  0.  0.]]\n"
     ]
    }
   ],
   "source": [
    "A = np.array([[5,3,11],[15,9,33],[20,12,44]])\n",
    "print(escalonar_filas(A))"
   ]
  },
  {
   "cell_type": "code",
   "execution_count": 10,
   "id": "22fe669c",
   "metadata": {},
   "outputs": [
    {
     "name": "stdout",
     "output_type": "stream",
     "text": [
      "[[ 5.  3. 11.]\n",
      " [ 0.  0. 11.]\n",
      " [ 0.  0.  0.]]\n"
     ]
    }
   ],
   "source": [
    "A = np.array([[5,3,11],[15,9,33],[20,12,55]])\n",
    "print(escalonar_filas(A))"
   ]
  },
  {
   "cell_type": "markdown",
   "id": "6fc184c2",
   "metadata": {},
   "source": [
    "## Parte 2"
   ]
  },
  {
   "cell_type": "markdown",
   "id": "d471369d",
   "metadata": {},
   "source": [
    "### Complejidad de la elimación gaussiana (escalonar_filas) experimentalmente"
   ]
  },
  {
   "cell_type": "code",
   "execution_count": 11,
   "id": "304e94dc",
   "metadata": {},
   "outputs": [],
   "source": [
    "import time"
   ]
  },
  {
   "cell_type": "code",
   "execution_count": 12,
   "id": "9088024c",
   "metadata": {},
   "outputs": [
    {
     "name": "stdout",
     "output_type": "stream",
     "text": [
      "[[0.99041299 0.27714947 0.75310405 0.77605975 0.43570599 0.05522679\n",
      "  0.31665007 0.77930024 0.87142164 0.54952449]\n",
      " [0.44061101 0.74871791 0.91589481 0.90024297 0.52347157 0.74822588\n",
      "  0.36716092 0.47536618 0.86117988 0.69349113]\n",
      " [0.60991961 0.51372156 0.99997454 0.66394588 0.42066068 0.0391667\n",
      "  0.28047563 0.76039145 0.33802358 0.14932115]\n",
      " [0.75544576 0.21428603 0.20620352 0.82514429 0.5981487  0.89955425\n",
      "  0.77351303 0.70975424 0.5731794  0.73986944]\n",
      " [0.29498498 0.03579884 0.2334449  0.62503958 0.08218005 0.58346182\n",
      "  0.30017854 0.15910534 0.83561229 0.75159588]\n",
      " [0.45069903 0.81600788 0.64090528 0.68731725 0.65743601 0.76858257\n",
      "  0.44409027 0.79604472 0.50485251 0.56062131]\n",
      " [0.24069779 0.43142148 0.84662347 0.69273141 0.32197903 0.18312455\n",
      "  0.32387525 0.06136165 0.34352694 0.72797686]\n",
      " [0.95472632 0.58266782 0.69282552 0.51680018 0.27438334 0.51995705\n",
      "  0.4819468  0.65370197 0.80948341 0.55045816]\n",
      " [0.16182221 0.79468603 0.04962163 0.58821969 0.07313606 0.66277029\n",
      "  0.91106082 0.79763127 0.30144374 0.19840814]\n",
      " [0.42745569 0.14989484 0.26696007 0.04738938 0.93780169 0.00956289\n",
      "  0.22836722 0.01622313 0.33645537 0.83363999]]\n"
     ]
    }
   ],
   "source": [
    "# Matrices con numeros aleatorios\n",
    "A = np.random.rand(10,10)\n",
    "print(A)"
   ]
  },
  {
   "cell_type": "code",
   "execution_count": 13,
   "id": "4251d0b7",
   "metadata": {},
   "outputs": [
    {
     "name": "stdout",
     "output_type": "stream",
     "text": [
      "0.007568836212158203\n"
     ]
    }
   ],
   "source": [
    "A = np.random.rand(100,100)\n",
    "start = time.time()\n",
    "B = escalonar_filas(A)\n",
    "end = time.time()\n",
    "t1 = end - start\n",
    "print(t1)"
   ]
  },
  {
   "cell_type": "code",
   "execution_count": 14,
   "id": "fb78f214",
   "metadata": {},
   "outputs": [
    {
     "name": "stdout",
     "output_type": "stream",
     "text": [
      "0.043192148208618164\n"
     ]
    }
   ],
   "source": [
    "A = np.random.rand(200,200)\n",
    "start = time.time()\n",
    "B = escalonar_filas(A)\n",
    "end = time.time()\n",
    "t2 = end - start\n",
    "print(t2)"
   ]
  },
  {
   "cell_type": "code",
   "execution_count": 15,
   "id": "f0701ebf",
   "metadata": {},
   "outputs": [
    {
     "name": "stdout",
     "output_type": "stream",
     "text": [
      "0.1054844856262207\n"
     ]
    }
   ],
   "source": [
    "A = np.random.rand(300,300)\n",
    "start = time.time()\n",
    "B = escalonar_filas(A)\n",
    "end = time.time()\n",
    "t3 = end - start\n",
    "print(t3)"
   ]
  },
  {
   "cell_type": "code",
   "execution_count": 16,
   "id": "e9423102",
   "metadata": {},
   "outputs": [
    {
     "name": "stdout",
     "output_type": "stream",
     "text": [
      "0.3024282455444336\n"
     ]
    }
   ],
   "source": [
    "A = np.random.rand(400,400)\n",
    "start = time.time()\n",
    "B = escalonar_filas(A)\n",
    "end = time.time()\n",
    "t4 = end - start\n",
    "print(t4)"
   ]
  },
  {
   "cell_type": "code",
   "execution_count": 19,
   "id": "45ca96aa",
   "metadata": {},
   "outputs": [
    {
     "data": {
      "image/png": "[encoded data removed]",
      "text/plain": [
       "<Figure size 640x480 with 1 Axes>"
      ]
     },
     "metadata": {},
     "output_type": "display_data"
    }
   ],
   "source": [
    "import matplotlib.pyplot as plt\n",
    "x = np.array([100, 200, 300, 400])\n",
    "t = np.array([t1, t2, t3, t4])\n",
    "plt.title(\"Función escalonar_filas\")\n",
    "plt.xlabel(\"dimensión matriz\")\n",
    "plt.ylabel(\"tiempo (seg.)\")\n",
    "plt.scatter(x,t)\n",
    "plt.show()"
   ]
  },
  {
   "cell_type": "code",
   "execution_count": null,
   "id": "5bef3416-9d18-40dd-aa2c-4e64c0198c91",
   "metadata": {},
   "outputs": [],
   "source": []
  }
 ],
 "metadata": {
  "kernelspec": {
   "display_name": "Python 3 (ipykernel)",
   "language": "python",
   "name": "python3"
  },
  "language_info": {
   "codemirror_mode": {
    "name": "ipython",
    "version": 3
   },
   "file_extension": ".py",
   "mimetype": "text/x-python",
   "name": "python",
   "nbconvert_exporter": "python",
   "pygments_lexer": "ipython3",
   "version": "3.12.2"
  }
 },
 "nbformat": 4,
 "nbformat_minor": 5
}
