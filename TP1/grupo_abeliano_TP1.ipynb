{
  "cells": [
    {
      "cell_type": "code",
      "execution_count": 1,
      "id": "N6ommK7NUA5_",
      "metadata": {
        "id": "N6ommK7NUA5_"
      },
      "outputs": [],
      "source": [
        "import numpy as np\n",
        "import pandas as pd\n",
        "import matplotlib.pyplot as plt\n",
        "import seaborn as sns\n",
        "from scipy.linalg import solve"
      ]
    },
    {
      "cell_type": "markdown",
      "id": "5c0cbb93-2880-4750-975d-11cce9f6b12c",
      "metadata": {
        "id": "5c0cbb93-2880-4750-975d-11cce9f6b12c"
      },
      "source": [
        "# Trabajo Práctico 1 - Matrices de Insumo Producto"
      ]
    },
    {
      "cell_type": "markdown",
      "id": "11f7face-a325-4e30-b13e-0c3d84280c5e",
      "metadata": {
        "id": "11f7face-a325-4e30-b13e-0c3d84280c5e"
      },
      "source": [
        "### Consigna 1"
      ]
    },
    {
      "cell_type": "markdown",
      "id": "KI9zDYDzWwex",
      "metadata": {
        "id": "KI9zDYDzWwex"
      },
      "source": [
        "Tenemos que:\n",
        "\n",
        "$$\n",
        "\\begin{aligned}\n",
        "& p = Ap + d \\\\\n",
        "& p - Ap = d \\\\\n",
        "& (I-A)p = d \\\\\n",
        "& p = (I-A)^{-1}d\n",
        "\\end{aligned}\n",
        "$$\n",
        "\n",
        "De esta manera:\n",
        "\n",
        "- **a. Si $(I-A)$ es inversible:**\n",
        "\n",
        "$$\n",
        "p = (I-A)^{-1}d\n",
        "$$\n",
        "\n",
        "Nos encontramos con un sistema de ecuaciones lineales de unica solucion, de manera que podriamos obtener los valores de salida (output) totales, dado el vector de demanda externa.\n",
        "\n",
        "- **b. Si $(I-A)$ es inversible y $d=\\vec{0}$:**\n",
        "\n",
        "$$\n",
        "p = \\vec{0}\n",
        "$$\n",
        "\n",
        "Lo cual nos dice que la produccion total necesaria para cubrir la demanda externa es 0.\n",
        "\n",
        "- **c. Cuando $(I-A)$ no es inversible:**\n",
        "\n",
        "Esto implica que la matriz tiene filas o columnas linealmente dependientes, lo que significa que el sistema puede ser compatible indeterminado (infinitas soluciones) o incompatible (sin solución). Es mas, existe un vector no nulo $v$ tal que $(I-A)v = 0$\n",
        "\n",
        "En este caso, pueden ocurrir dos situaciones:\n",
        "   \n",
        "   - a) El sistema puede ser **compatible indeterminado**:\n",
        "\n",
        "      - **Condición para que exista solución:** El sistema tendrá solución si y solo si $d$ puede ser expresado como una combinación lineal de las columnas de $(I-A)$\n",
        "      - Si encontramos una solución particular $p_0$, todas las soluciones serán de la forma $p = p_0 + v$, donde $v$ es cualquier vector que cumpla $(I-A)v = 0$ (Esto es valido pues las matrices son distributivas respecto a la suma)\n",
        "   \n",
        "   - b) El sistema puede ser **incompatible**:\n",
        "\n",
        "      - Esto ocurre cuando $d$ no puede ser expresado como combinación lineal de las columnas de $(I-A)$\n",
        "      - En términos económicos, no existiría ningún plan de producción que satisfaga la demanda externa $d$\n",
        "\n",
        "En el contexto del problema, esto significa que cuando $(I-A)$ no es inversible, debemos analizar cuidadosamente el vector de demanda externa $d$. Si bien no podemos usar el método de la matriz inversa, el sistema aún podría tener solución (posiblemente infinitas soluciones).\n",
        "\n",
        "- **d. $(I-A)$ no es inversible y $d=\\vec{0}$:**\n",
        "\n",
        "Cuando $(\\mathbf{I} - \\mathbf{A})$ no es inversible, esto implica que la matriz tiene filas o columnas linealmente dependientes, lo que significa que el sistema puede ser compatible indeterminado (infinitas soluciones) o incompatible (sin solución)\n",
        "\n",
        "Sin embargo, al tener $\\mathbf{d} = \\vec{0}$, estamos tratando con un sistema homogéneo:\n",
        "\n",
        "$(\\mathbf{I} - \\mathbf{A})\\mathbf{p} = \\vec{0}.$\n",
        "\n",
        "En este caso, la solución trivial $\\mathbf{p} = \\vec{0}$ siempre existe, pero debido a la no invertibilidad de $(\\mathbf{I} - \\mathbf{A})$ es posible que existan otras soluciones no triviales (infinitas soluciones) si el sistema es compatible indeterminado. Esto se debe a la dependencia lineal en $(\\mathbf{I} - \\mathbf{A})$ (es decir, su determinante es 0), lo que permite la existencia de múltiples planes de producción posibles incluso cuando no hay demanda externa.\n",
        "\n",
        "En resumen, la producción total necesaria para satisfacer la demanda externa puede ser $\\mathbf{p} = \\vec{0}$, pero también puede haber infinitos planes de producción debido a la singularidad de $(\\mathbf{I} - \\mathbf{A})$\n"
      ]
    },
    {
      "cell_type": "markdown",
      "id": "b6527567-ea14-4fb0-8cbb-3faa67fee8c1",
      "metadata": {
        "id": "b6527567-ea14-4fb0-8cbb-3faa67fee8c1"
      },
      "source": [
        "---"
      ]
    },
    {
      "cell_type": "markdown",
      "id": "6ea60699-4c07-40fb-8f71-ec4cacf32708",
      "metadata": {
        "id": "6ea60699-4c07-40fb-8f71-ec4cacf32708"
      },
      "source": [
        "### Consigna 2\n",
        "\n",
        "Las funciones estan en el archivo `funciones.py`. Ejecutamos el siguiente codigo para importar las funciones que usaremos en el ejercicio 3"
      ]
    },
    {
      "cell_type": "code",
      "execution_count": 2,
      "id": "1vfikNKyMAyR",
      "metadata": {
        "id": "1vfikNKyMAyR"
      },
      "outputs": [],
      "source": [
        "from funciones import calcularLU, inversaLU"
      ]
    },
    {
      "cell_type": "markdown",
      "id": "LCfwm5vva-1V",
      "metadata": {
        "id": "LCfwm5vva-1V"
      },
      "source": [
        "### Consigna 3 -  "
      ]
    },
    {
      "cell_type": "markdown",
      "id": "c6d417a0",
      "metadata": {},
      "source": [
        "Tenemos que resolver el siguiente sistema usando lo que hicimos en la consigna 2.\n",
        "\n",
        "$\\mathbf{A} = \n",
        "\\begin{pmatrix}\n",
        "0.3 & 0.0 & 0.1 \\\\\n",
        "0.05 & 1.0 & 0.2 \\\\\n",
        "0.1 & 0.15 & 0.1\n",
        "\\end{pmatrix}, \\quad\n",
        "\\mathbf{d} = \n",
        "\\begin{pmatrix}\n",
        "100 \\\\\n",
        "100 \\\\\n",
        "300\n",
        "\\end{pmatrix}$\n",
        "\n",
        "respondiendo lo siguiente:\n",
        "\n",
        "-  ¿Hay una justificación económica de los valores encontrados para $\\mathbf{p}$?\n",
        "- ¿Cuál es la característica de la matriz que lleva a esta solución?\n",
        "\n"
      ]
    },
    {
      "cell_type": "code",
      "execution_count": 3,
      "id": "ogJVHhwBr4z7",
      "metadata": {
        "colab": {
          "base_uri": "https://localhost:8080/"
        },
        "id": "ogJVHhwBr4z7",
        "outputId": "95669f00-7275-4e8d-916b-bd1029b6c0cf"
      },
      "outputs": [
        {
          "name": "stdout",
          "output_type": "stream",
          "text": [
            "La matriz de Leontief queda:\n",
            " [[  1.37931034  -0.68965517   0.        ]\n",
            " [ -2.98850575 -28.50574713  -6.66666667]\n",
            " [ -0.34482759  -4.82758621   0.        ]]\n",
            "\n",
            "Inversa con numpy:\n",
            " [[  1.37931034  -0.68965517   0.        ]\n",
            " [ -2.98850575 -28.50574713  -6.66666667]\n",
            " [ -0.34482759  -4.82758621  -0.        ]]\n"
          ]
        }
      ],
      "source": [
        "A = np.array([[0.3, 0.0, 0.1],\n",
        "             [0.05, 1.0, 0.2],\n",
        "             [0.1, 0.15, 0.1]])\n",
        "\n",
        "d = np.array([100,100,300])\n",
        "I = np.eye(3)\n",
        "P,L,U = calcularLU(I-A)\n",
        "Lontief = inversaLU(L,U,P)\n",
        "print(\"La matriz de Leontief queda:\\n\",Lontief)\n",
        "\n",
        "print(\"\\nInversa con numpy:\\n\",np.linalg.inv(I-A))"
      ]
    },
    {
      "cell_type": "code",
      "execution_count": 4,
      "id": "Bj81kWawpbrd",
      "metadata": {
        "colab": {
          "base_uri": "https://localhost:8080/"
        },
        "id": "Bj81kWawpbrd",
        "outputId": "b816a50d-0b8c-4460-b6c0-31fdfb7731b1"
      },
      "outputs": [
        {
          "data": {
            "text/plain": [
              "array([   68.96551724, -5149.42528736,  -517.24137931])"
            ]
          },
          "execution_count": 4,
          "metadata": {},
          "output_type": "execute_result"
        }
      ],
      "source": [
        "# Calculamos el vector producto, multiplicacndo la matriz de Leontief por el vector d\n",
        "Lontief@d"
      ]
    },
    {
      "cell_type": "markdown",
      "id": "Lrk8XaY3ptRe",
      "metadata": {
        "id": "Lrk8XaY3ptRe"
      },
      "source": [
        "1. **Incoherencia de los Valores Negativos en el Vector  $p$:**\n",
        "   - El vector de producción $p$ obtenido al resolver el sistema $ p = (I - A)^{-1} \\cdot d $ contiene valores negativos, lo cual no tiene sentido económico. En un modelo de producción, los valores negativos indican que un sector debería reducir su producción para satisfacer la demanda, lo cual es imposible y sugiere una inestabilidad en el sistema económico modelado.\n",
        "\n",
        "2. **Error en la Estructura de la Matriz $A$:**\n",
        "   - Analizando la matriz $\\mathbf{A}$, observamos que el coeficiente de producción para el segundo sector es ($a_{22} = 1.0$), Esto significa que, para producir una unidad de output del sector 2, se requiere exactamente una unidad de insumo del propio sector 2. Adicionalmente, se necesitan $ a_{12} = 0.0 $ unidades del sector 1 y $a_{32} = 0.15$ unidades del sector 3. Esto implica que el sector 2 consume toda su producción y más, sin generar un output neto para satisfacer la demanda final o para ser utilizado por otros sectores, lo cual es insostenible desde el punto de vista económico.\n",
        "\n",
        "3. **Dependencia Interna Intensa:**\n",
        "   - La matriz $A$ muestra una alta interdependencia entre los sectores económicos, especialmente en el segundo sector, que depende completamente de su propia producción para operar. Esto genera una retroalimentación negativa exagerada y amplifica las demandas internas, causando inestabilidad y sensibilidad extrema en la producción. Esta dependencia intensa es una de las razones clave por las cuales el modelo arroja resultados no realistas y no interpretables económicamente.\n",
        "\n",
        "En conclusión, la estructura interna de la matriz $A$ lleva a un modelo matemáticamente inestable y conduce a un modelo económicamente inviable (especificamente el coeficiente $a_{22} = 1.0$), pues la dependencia total del sector 2 de su propia produccion significa que no puede satisfacer la demanda final ni contribuir al sistema economigo general. Resultando en valores negativos en el vector de produccion $p$.\n",
        "\n",
        "Y cuando nos referimos a que es un modelo \"*matematicamente inestable*\" (especialmente en este contexto del modelo de insumo-producto de Leontief), estamos indicando que el sistema presenta caracteristicas matematicas que impiden obtener soluciones viables y unicas. Es decir, la Singularidad de la matriz $I-A$."
      ]
    },
    {
      "cell_type": "markdown",
      "id": "6uM71Esda7mp",
      "metadata": {
        "id": "6uM71Esda7mp"
      },
      "source": [
        "---"
      ]
    },
    {
      "cell_type": "markdown",
      "id": "WUVv4G_ibEtg",
      "metadata": {
        "id": "WUVv4G_ibEtg"
      },
      "source": [
        "### Consigna 4 -  "
      ]
    },
    {
      "cell_type": "markdown",
      "id": "hMJWpcValspt",
      "metadata": {
        "id": "hMJWpcValspt"
      },
      "source": [
        "Dado un cambio en la demanda externa:\n",
        "\n",
        "$$\n",
        "d^{\\prime} = d + \\Delta d\n",
        "$$\n",
        "\n",
        "Con:\n",
        "\n",
        "$$\n",
        "\\Delta d = \\left(\\begin{array}{lll}\n",
        "0 \\\\\n",
        "0 \\\\\n",
        "1\n",
        "\\end{array}\\right)\n",
        "$$\n",
        "\n",
        "Podemos plantear:\n",
        "\n",
        "$$\n",
        "p + \\Delta p = (I-A)^{-1}(d + \\Delta d) = (I-A)^{-1}d + (I-A)^{-1}\\Delta d\n",
        "$$\n",
        "\n",
        "Y como:\n",
        "\n",
        "$$\n",
        "p + \\Delta p = (I-A)^{-1}d+\\Delta p\n",
        "$$\n",
        "\n",
        "Nos queda:\n",
        "\n",
        "$$\n",
        "\\begin{aligned}\n",
        "& \\Delta p = (I-A)^{-1}\\Delta d \\\\\n",
        "& \\Delta p = L(\\Delta d)\n",
        "\\end{aligned}\n",
        "$$\n",
        "\n",
        "Con esto, podemos ver que:\n",
        "\n",
        "$$\n",
        "\\left(\\begin{array}{l}\n",
        "\\Delta p_1 \\\\\n",
        "\\Delta p_2 \\\\\n",
        "\\Delta p_3\n",
        "\\end{array}\\right)=\\left(\\begin{array}{lll}\n",
        "L_{11} & L_{12} & L_{13} \\\\\n",
        "L_{21} & L_{22} & L_{23} \\\\\n",
        "L_{31} & L_{32} & L_{33}\n",
        "\\end{array}\\right)\\left(\\begin{array}{l}\n",
        "0 \\\\\n",
        "0 \\\\\n",
        "1\n",
        "\\end{array}\\right)=\\left(\\begin{array}{l}\n",
        "L_{13} \\\\\n",
        "L_{23} \\\\\n",
        "L_{33}\n",
        "\\end{array}\\right)\n",
        "$$\n",
        "\n",
        "Lo cual nos muestra el incremento de las salidas (outputs) de las distintas industrias debido al incremento de una unidad en la demanda total de la industria 3."
      ]
    },
    {
      "cell_type": "markdown",
      "id": "USlYuRpObHBw",
      "metadata": {
        "id": "USlYuRpObHBw"
      },
      "source": [
        "---"
      ]
    },
    {
      "cell_type": "markdown",
      "id": "peEY3V3QbIQu",
      "metadata": {
        "id": "peEY3V3QbIQu"
      },
      "source": [
        "### Consigna 5 -  "
      ]
    },
    {
      "cell_type": "markdown",
      "id": "Sh2p-V63SV1U",
      "metadata": {
        "id": "Sh2p-V63SV1U"
      },
      "source": [
        "Tenemos los coeficientes tecnicos $a_{ij}$ definidos como:\n",
        "\n",
        "$$\n",
        "a_{ij} = \\frac{z_{ij}}{p_j}\n",
        "$$\n",
        "\n",
        "De manera que, de acuerdo a la economia dada con tres sectores, tenemos:\n",
        "\n",
        "$$\n",
        "\\begin{aligned}\n",
        "& Z = \\left(\\begin{array}{lll}\n",
        "z_{11} & z_{12} & z_{13} \\\\\n",
        "z_{21} & z_{22} & z_{23} \\\\\n",
        "z_{31} & z_{32} & z_{33}\n",
        "\\end{array}\\right) = \\left(\\begin{array}{lll}\n",
        "350 & 0 & 0 \\\\\n",
        "50 & 250 & 150 \\\\\n",
        "200 & 150 & 550\n",
        "\\end{array}\\right) \\\\\n",
        "& \\\\\n",
        "& P = \\left(\\begin{array}{lll}\n",
        "p_{1} & 0 & 0 \\\\\n",
        "0 & p_{2} & 0 \\\\\n",
        "0 & 0 & p_{3}\n",
        "\\end{array}\\right) = \\left(\\begin{array}{lll}\n",
        "1000 & 0 & 0 \\\\\n",
        "0 & 500 & 0 \\\\\n",
        "0 & 0 & 1000\n",
        "\\end{array}\\right)\n",
        "\\end{aligned}\n",
        "$$\n",
        "\n",
        "Donde la inversa de $P$ es:\n",
        "\n",
        "$$\n",
        "P^{-1} = \\left(\\begin{array}{lll}\n",
        "\\frac{1}{p_{1}} & 0 & 0 \\\\\n",
        "0 & \\frac{1}{p_{2}} & 0 \\\\\n",
        "0 & 0 & \\frac{1}{p_{3}}\n",
        "\\end{array}\\right) = \\left(\\begin{array}{lll}\n",
        "\\frac{1}{1000} & 0 & 0 \\\\\n",
        "0 & \\frac{1}{500} & 0 \\\\\n",
        "0 & 0 & \\frac{1}{1000}\n",
        "\\end{array}\\right)\n",
        "$$\n",
        "\n",
        "Asi, nos queda la siguiente matriz de coeficientes $A$:\n",
        "\n",
        "$$\n",
        "A = ZP^{-1} = \\left(\\begin{array}{lll}\n",
        "\\frac{7}{20} & 0 & 0 \\\\\n",
        "\\frac{1}{20} & \\frac{1}{2} & \\frac{3}{20} \\\\\n",
        "\\frac{1}{5} & \\frac{3}{10} & \\frac{11}{20}\n",
        "\\end{array}\\right)\n",
        "$$\n",
        "\n",
        "Veamos ahora de obtener la matriz de Leontief $L$. Sabemos que:\n",
        "\n",
        "$$\n",
        "L = (I-A)^{-1}\n",
        "$$\n",
        "\n",
        "Siendo:\n",
        "\n",
        "$$\n",
        "I_3-A = \\left(\\begin{array}{lll}\n",
        "1 & 0 & 0 \\\\\n",
        "0 & 1 & 0 \\\\\n",
        "0 & 0 & 1\n",
        "\\end{array}\\right) - \\left(\\begin{array}{lll}\n",
        "\\frac{7}{20} & 0 & 0 \\\\\n",
        "\\frac{1}{20} & \\frac{1}{2} & \\frac{3}{20} \\\\\n",
        "\\frac{1}{5} & \\frac{3}{10} & \\frac{11}{20}\n",
        "\\end{array}\\right) = \\left(\\begin{array}{lll}\n",
        "\\frac{13}{20} & 0 & 0 \\\\\n",
        "-\\frac{1}{20} & \\frac{1}{2} & -\\frac{3}{20} \\\\\n",
        "-\\frac{1}{5} & -\\frac{3}{10} & \\frac{9}{20}\n",
        "\\end{array}\\right)\n",
        "$$\n",
        "\n",
        "Si ahora calculamos la inversa nos queda:\n",
        "\n",
        "$$\n",
        "(I_3-A)^{-1} = \\left(\\begin{matrix}\n",
        "\\frac{13}{20} & 0 & 0 & | & 1 & 0 & 0 \\\\\n",
        "\\frac{-1}{20} & \\frac{1}{2} & \\frac{-3}{20} & | & 0 & 1 & 0 \\\\\n",
        "\\frac{-1}{5} & \\frac{-3}{10} & \\frac{9}{20} & | & 0 & 0 & 1\n",
        "\\end{matrix}\\right) \\sim \\cdots \\sim \\left(\\begin{matrix}\n",
        "1 & 0 & 0 & | & \\frac{20}{13} & 0 & 0 \\\\\n",
        "0 & 1 & 0 & | & \\frac{35}{78} & \\frac{5}{2} & \\frac{5}{6} \\\\\n",
        "0 & 0 & 1 & | & \\frac{115}{117} & \\frac{5}{3} & \\frac{25}{9}\n",
        "\\end{matrix}\\right)\n",
        "$$\n",
        "\n",
        "Es decir:\n",
        "\n",
        "$$\n",
        "L = \\left(\\begin{matrix}\n",
        "\\frac{20}{13} & 0 & 0 \\\\\n",
        "\\frac{35}{78} & \\frac{5}{2} & \\frac{5}{6} \\\\\n",
        "\\frac{115}{117} & \\frac{5}{3} & \\frac{25}{9}\n",
        "\\end{matrix}\\right)\n",
        "$$"
      ]
    },
    {
      "cell_type": "code",
      "execution_count": 5,
      "id": "38794552",
      "metadata": {},
      "outputs": [
        {
          "name": "stdout",
          "output_type": "stream",
          "text": [
            "Con nuestro algoritmo:\n",
            " [[1.53846154 0.         0.        ]\n",
            " [0.44871795 2.5        0.83333333]\n",
            " [0.98290598 1.66666667 2.77777778]]\n",
            "\n",
            "Hecho a mano:\n",
            " [[1.53846154 0.         0.        ]\n",
            " [0.44871795 2.5        0.83333333]\n",
            " [0.98290598 1.66666667 2.77777778]]\n"
          ]
        }
      ],
      "source": [
        "A = np.array([[7/20,0,0],\n",
        "              [1/20,1/2,3/20],\n",
        "              [1/5, 3/10, 11/20]])\n",
        "I = np.eye(3)\n",
        "P,L,U = calcularLU(I-A)\n",
        "lontief = inversaLU(L,U,P)\n",
        "print(\"Con nuestro algoritmo:\\n\",lontief)\n",
        "\n",
        "lontief_a_mano = np.array([[20/13,0,0],\n",
        "                           [35/78,5/2,5/6],\n",
        "                           [115/117, 5/3, 25/9]])\n",
        "print(\"\\nHecho a mano:\\n\",lontief_a_mano)"
      ]
    },
    {
      "cell_type": "markdown",
      "id": "0JglDYBFbKrI",
      "metadata": {
        "id": "0JglDYBFbKrI"
      },
      "source": [
        "---"
      ]
    },
    {
      "cell_type": "markdown",
      "id": "wRclDjf6bL1H",
      "metadata": {
        "id": "wRclDjf6bL1H"
      },
      "source": [
        "### Consigna 6 -  "
      ]
    },
    {
      "cell_type": "markdown",
      "id": "2fxyXwBmcYnO",
      "metadata": {
        "id": "2fxyXwBmcYnO"
      },
      "source": [
        "A partir de la siguiente fórmula:\n",
        "\n",
        "$$\n",
        "\\begin{aligned} \\\\\n",
        "\\left(\\left(\\begin{array}{ll}\n",
        "I_{n \\times n} & 0_{n \\times m} \\\\\n",
        "0_{m \\times n} & I_{m \\times m}\n",
        "\\end{array}\\right)-\n",
        "\\left(\\begin{array}{ll}\n",
        "A^{rr} & A^{rs} \\\\\n",
        "A^{sr} & A^{ss} \\\\\n",
        "\\end{array}\\right)\\right)\n",
        "\\left(\\begin{array}{l}\n",
        "p^r \\\\\n",
        "p^s\n",
        "\\end{array}\\right)=\n",
        "\\left(\\begin{array}{l}\n",
        "d^r \\\\\n",
        "d^s\n",
        "\\end{array}\\right)\n",
        "\\end{aligned}\n",
        "$$\n",
        "\n",
        "$$\\begin{aligned} \\\\\n",
        "\\end{aligned}$$\n",
        "\n",
        "**Condiciones para la multiplicación en bloques:**\n",
        "\n",
        "- **Compatibilidad de dimensiones:** Los submatrices y subvectores deben tener dimensiones compatibles para las operaciones de suma y multiplicación.\n",
        "- **Asociatividad de la multiplicación:** Aunque la multiplicación de matrices no es conmutativa, sí es asociativa, lo que permite agrupar operaciones en bloques bajo ciertas condiciones.\n",
        "- **No siempre es posible:** La multiplicación en bloques no siempre es aplicable; depende de la estructura específica de las matrices involucradas.\n",
        "\n",
        "En nuestro caso, las matrices y vectores están particionados como:\n",
        "\n",
        "- $ A^{rr} \\in \\mathbb{R}^{n \\times n} $\n",
        "- $ A^{rs} \\in \\mathbb{R}^{n \\times m} $\n",
        "- $ A^{sr} \\in \\mathbb{R}^{m \\times n} $\n",
        "- $ A^{ss} \\in \\mathbb{R}^{m \\times m} $\n",
        "\n",
        "Vectores:\n",
        "\n",
        "- $ \\Delta p^r \\in \\mathbb{R}^{n \\times 1} $\n",
        "- $ \\Delta p^s \\in \\mathbb{R}^{m \\times 1} $\n",
        "- $ \\Delta d^r \\in \\mathbb{R}^{n \\times 1} $\n",
        "- $ \\Delta d^s \\in \\mathbb{R}^{m \\times 1} $\n",
        "\n",
        "Dado que las dimensiones son compatibles, la multiplicación en bloques es realizable en este contexto.\n",
        "\n",
        "Tenemos que deducir cómo calcular la variación de la producción en la región r ($\\Delta p^r$) para cubrir una variación de la demanda, considerando las relaciones inter-regionales.\n",
        "\n",
        "Entonces, resolvamos la siguiente fórmula:\n",
        "\n",
        "$$\n",
        "\\begin{aligned} \\\\\n",
        "\\left(\\left(\\begin{array}{ll}\n",
        "I_{n \\times n} & 0_{n \\times n} \\\\\n",
        "0_{m \\times n} & I_{m \\times m}\n",
        "\\end{array}\\right)-\n",
        "\\left(\\begin{array}{ll}\n",
        "A^{rr} & A^{rs} \\\\\n",
        "A^{sr} & A^{ss} \\\\\n",
        "\\end{array}\\right)\\right)\n",
        "\\left(\\begin{array}{l}\n",
        "\\Delta p^r \\\\\n",
        "\\Delta p^s\n",
        "\\end{array}\\right)=\n",
        "\\left(\\begin{array}{l}\n",
        "\\Delta d^r \\\\\n",
        "\\Delta d^s\n",
        "\\end{array}\\right)\n",
        "\\end{aligned}\n",
        "$$\n",
        "\n",
        "$$\n",
        "\\begin{aligned} \\\\\n",
        "\\left(\\begin{array}{ll}\n",
        "(I - A^{rr}) & - A^{rs} \\\\\n",
        "- A^{sr} &  (I - A^{ss})\n",
        "\\end{array}\\right)\n",
        "\\left(\\begin{array}{l}\n",
        "\\Delta p^r \\\\\n",
        "\\Delta p^s\n",
        "\\end{array}\\right)=\n",
        "\\left(\\begin{array}{l}\n",
        "\\Delta d^r \\\\\n",
        "\\Delta d^s\n",
        "\\end{array}\\right)\n",
        "\\end{aligned}\n",
        "$$\n",
        "\n",
        "**Recordatorio:** La multiplicación de matrices **no es conmutativa**. Es decir, en general, $ AB \\neq BA $. Por lo tanto, el orden en el que se multiplican las matrices y vectores es crucial.\n",
        "\n",
        "- **Primera ecuación:**\n",
        "\n",
        "  $$\n",
        "  (I - A^{rr}) \\Delta p^r - A^{rs} \\Delta p^s = \\Delta d^r\n",
        "  $$\n",
        "\n",
        "- **Segunda ecuación:**\n",
        "\n",
        "  $$\n",
        "  -A^{sr} \\Delta p^r + (I - A^{ss}) \\Delta p^s = \\Delta d^s\n",
        "  $$\n",
        "\n",
        "Por simplicidad, la consigna nos dice que fijemos $\\Delta d^s = 0$. \n",
        "\n",
        "\n",
        "- La segunda ecuación se convierte en:\n",
        "\n",
        "  $$\n",
        "  -A^{sr} \\Delta p^r + (I - A^{ss}) \\Delta p^s = 0 \n",
        "  $$\n",
        "\n",
        "Entonces, nos queda el siguiente sistema de ecuaciones a resolver:\n",
        "\n",
        "$$\\begin{aligned} \\\\\n",
        "\\end{aligned}$$\n",
        "\n",
        "\\begin{equation}\n",
        "\\left\\{\n",
        "\\begin{aligned}\n",
        "    (I - A^{rr}) \\Delta p^r - A^{rs} \\Delta p^s = \\Delta d^r \\quad \\quad (1) \\\\\n",
        "    -A^{sr} \\Delta p^r + (I - A^{ss}) \\Delta p^s = 0  \\quad \\quad (2)\n",
        "\\end{aligned}\n",
        "\\right.\n",
        "\\end{equation}\n",
        "\n",
        "$$\\begin{aligned} \\\\\n",
        "\\end{aligned}$$\n",
        "\n",
        "De la ecuación (2), podemos sacar facilmente que: \n",
        "\n",
        "$$\n",
        "\\begin{aligned} \\\\\n",
        "& (I - A^{ss}) \\Delta p^s = A^{sr} \\Delta p^r \\hspace{10 mm} \\Longrightarrow \\hspace{10 mm} \\Delta p^s = (I - A^{ss})^{-1} A^{sr} \\Delta p^r\n",
        "\\end {aligned}\n",
        "$$\n",
        "\n",
        "$$\\begin{aligned} \\\\\n",
        "\\end{aligned}$$\n",
        "\n",
        "**Observación:** La matriz $(I - A^{ss})^{-1}$ se encuentra del lado izquierdo dado que debemos respetar el orden de las matrices para resolver las multiplicaciones, ya que la multiplicación de matrices no es conmutativa. \n",
        "\n",
        "Ahora bien, reemplazando el valor que obtuvimos de $\\Delta p^s$ en la ecuación (1), tenemos que:\n",
        "\n",
        "$$\n",
        "\\begin{aligned} \\\\\n",
        "& (I - A^{rr}) \\Delta p^r - A^{rs} (I - A^{ss})^{-1} A^{sr} \\Delta p^r = \\Delta d^r\n",
        "\\end {aligned}\n",
        "$$\n",
        "- Sabiendo que podemos tomar factor comun $\\Delta p^r$ a derecha pues las matrices son distributivas, nos quedaria:\n",
        "$$\n",
        "\\begin{aligned} \\\\\n",
        "& (I - A^{rr} - A^{rs} (I - A^{ss})^{-1} A^{sr}) \\Delta p^r = \\Delta d^r\n",
        "\\end {aligned}\n",
        "$$\n",
        "\n",
        "$$\n",
        "\\begin{aligned} \\\\\n",
        "& \\Delta p^r = (I - A^{rr} - A^{rs} (I - A^{ss})^{-1} A^{sr})^{-1} \\Delta d^r \\longrightarrow \\text{Fórmula que buscabamos}\n",
        "\\end {aligned}\n",
        "$$\n",
        "\n",
        "\n"
      ]
    },
    {
      "cell_type": "markdown",
      "id": "2KkJCcKobNcq",
      "metadata": {
        "id": "2KkJCcKobNcq"
      },
      "source": [
        "---"
      ]
    },
    {
      "cell_type": "markdown",
      "id": "3hhcJnRCbOi8",
      "metadata": {
        "id": "3hhcJnRCbOi8"
      },
      "source": [
        "### Consigna 7 -  "
      ]
    },
    {
      "cell_type": "markdown",
      "id": "48732be6",
      "metadata": {
        "id": "48732be6"
      },
      "source": [
        "En primer lugar, vamos a leer el archivo de excel denominado \"MIP_Latinoamericana_2011.xlsx\", el cual, en la hoja \"LAT_IOT_2011\", nos provee información sobre los flujos entre 40 sectores de 18 países, expresados en millones de dólares."
      ]
    },
    {
      "cell_type": "code",
      "execution_count": 6,
      "id": "ba0adb39",
      "metadata": {
        "id": "ba0adb39"
      },
      "outputs": [
        {
          "data": {
            "text/html": [
              "<div>\n",
              "<style scoped>\n",
              "    .dataframe tbody tr th:only-of-type {\n",
              "        vertical-align: middle;\n",
              "    }\n",
              "\n",
              "    .dataframe tbody tr th {\n",
              "        vertical-align: top;\n",
              "    }\n",
              "\n",
              "    .dataframe thead th {\n",
              "        text-align: right;\n",
              "    }\n",
              "</style>\n",
              "<table border=\"1\" class=\"dataframe\">\n",
              "  <thead>\n",
              "    <tr style=\"text-align: right;\">\n",
              "      <th></th>\n",
              "      <th>Country_iso3</th>\n",
              "      <th>Nosector</th>\n",
              "      <th>Sector</th>\n",
              "      <th>ARGs1</th>\n",
              "      <th>ARGs2</th>\n",
              "      <th>ARGs3</th>\n",
              "      <th>ARGs4</th>\n",
              "      <th>ARGs5</th>\n",
              "      <th>ARGs6</th>\n",
              "      <th>ARGs7</th>\n",
              "      <th>...</th>\n",
              "      <th>EXP_MDV</th>\n",
              "      <th>EXP_NPL</th>\n",
              "      <th>EXP_TUR</th>\n",
              "      <th>EXP_PAK</th>\n",
              "      <th>EXP_LKA</th>\n",
              "      <th>EXP_CUB</th>\n",
              "      <th>EXP_SUR</th>\n",
              "      <th>EXP_ROW</th>\n",
              "      <th>Adjustment</th>\n",
              "      <th>Output</th>\n",
              "    </tr>\n",
              "  </thead>\n",
              "  <tbody>\n",
              "    <tr>\n",
              "      <th>0</th>\n",
              "      <td>ARG</td>\n",
              "      <td>s01</td>\n",
              "      <td>Agriculture and forestry</td>\n",
              "      <td>9725.566485</td>\n",
              "      <td>18.369597</td>\n",
              "      <td>0.000000</td>\n",
              "      <td>0.000000</td>\n",
              "      <td>11890.682268</td>\n",
              "      <td>2331.532300</td>\n",
              "      <td>594.552280</td>\n",
              "      <td>...</td>\n",
              "      <td>0.000000</td>\n",
              "      <td>0.865281</td>\n",
              "      <td>132.020508</td>\n",
              "      <td>2.572569</td>\n",
              "      <td>0.0</td>\n",
              "      <td>30.970039</td>\n",
              "      <td>0.011896</td>\n",
              "      <td>2403.097412</td>\n",
              "      <td>-1695.114624</td>\n",
              "      <td>64585.080680</td>\n",
              "    </tr>\n",
              "    <tr>\n",
              "      <th>1</th>\n",
              "      <td>ARG</td>\n",
              "      <td>s02</td>\n",
              "      <td>Hunting and fishing</td>\n",
              "      <td>13.820241</td>\n",
              "      <td>0.062689</td>\n",
              "      <td>0.000000</td>\n",
              "      <td>0.000000</td>\n",
              "      <td>1.253285</td>\n",
              "      <td>2.774203</td>\n",
              "      <td>0.445318</td>\n",
              "      <td>...</td>\n",
              "      <td>0.000000</td>\n",
              "      <td>0.000000</td>\n",
              "      <td>0.161072</td>\n",
              "      <td>0.000000</td>\n",
              "      <td>0.0</td>\n",
              "      <td>0.000000</td>\n",
              "      <td>0.000000</td>\n",
              "      <td>0.815166</td>\n",
              "      <td>5.434752</td>\n",
              "      <td>1430.287291</td>\n",
              "    </tr>\n",
              "    <tr>\n",
              "      <th>2</th>\n",
              "      <td>ARG</td>\n",
              "      <td>s03</td>\n",
              "      <td>Mining and quarrying (energy)</td>\n",
              "      <td>6.095956</td>\n",
              "      <td>0.140437</td>\n",
              "      <td>2238.394196</td>\n",
              "      <td>47.503210</td>\n",
              "      <td>0.522333</td>\n",
              "      <td>0.618710</td>\n",
              "      <td>0.165520</td>\n",
              "      <td>...</td>\n",
              "      <td>0.000000</td>\n",
              "      <td>0.000000</td>\n",
              "      <td>0.000000</td>\n",
              "      <td>0.000000</td>\n",
              "      <td>0.0</td>\n",
              "      <td>0.000000</td>\n",
              "      <td>0.000000</td>\n",
              "      <td>0.000000</td>\n",
              "      <td>1847.147827</td>\n",
              "      <td>23964.065765</td>\n",
              "    </tr>\n",
              "    <tr>\n",
              "      <th>3</th>\n",
              "      <td>ARG</td>\n",
              "      <td>s04</td>\n",
              "      <td>Mining and quarrying (non-energy)</td>\n",
              "      <td>0.000000</td>\n",
              "      <td>0.687199</td>\n",
              "      <td>295.194361</td>\n",
              "      <td>470.706336</td>\n",
              "      <td>1.140358</td>\n",
              "      <td>13.123509</td>\n",
              "      <td>1.914597</td>\n",
              "      <td>...</td>\n",
              "      <td>0.000000</td>\n",
              "      <td>0.000000</td>\n",
              "      <td>0.000000</td>\n",
              "      <td>0.000000</td>\n",
              "      <td>0.0</td>\n",
              "      <td>0.019760</td>\n",
              "      <td>0.000000</td>\n",
              "      <td>0.432800</td>\n",
              "      <td>355.133514</td>\n",
              "      <td>7486.322979</td>\n",
              "    </tr>\n",
              "    <tr>\n",
              "      <th>4</th>\n",
              "      <td>ARG</td>\n",
              "      <td>s05</td>\n",
              "      <td>Meat and meat products; dairy products</td>\n",
              "      <td>23.017536</td>\n",
              "      <td>0.009325</td>\n",
              "      <td>0.505593</td>\n",
              "      <td>0.040398</td>\n",
              "      <td>356.730934</td>\n",
              "      <td>88.047795</td>\n",
              "      <td>15.017792</td>\n",
              "      <td>...</td>\n",
              "      <td>0.035902</td>\n",
              "      <td>0.000000</td>\n",
              "      <td>0.131605</td>\n",
              "      <td>0.547536</td>\n",
              "      <td>0.0</td>\n",
              "      <td>3.120524</td>\n",
              "      <td>0.039276</td>\n",
              "      <td>414.973785</td>\n",
              "      <td>-30.369465</td>\n",
              "      <td>17628.831707</td>\n",
              "    </tr>\n",
              "  </tbody>\n",
              "</table>\n",
              "<p>5 rows × 798 columns</p>\n",
              "</div>"
            ],
            "text/plain": [
              "  Country_iso3 Nosector                                  Sector        ARGs1  \\\n",
              "0          ARG      s01                Agriculture and forestry  9725.566485   \n",
              "1          ARG      s02                     Hunting and fishing    13.820241   \n",
              "2          ARG      s03           Mining and quarrying (energy)     6.095956   \n",
              "3          ARG      s04       Mining and quarrying (non-energy)     0.000000   \n",
              "4          ARG      s05  Meat and meat products; dairy products    23.017536   \n",
              "\n",
              "       ARGs2        ARGs3       ARGs4         ARGs5        ARGs6       ARGs7  \\\n",
              "0  18.369597     0.000000    0.000000  11890.682268  2331.532300  594.552280   \n",
              "1   0.062689     0.000000    0.000000      1.253285     2.774203    0.445318   \n",
              "2   0.140437  2238.394196   47.503210      0.522333     0.618710    0.165520   \n",
              "3   0.687199   295.194361  470.706336      1.140358    13.123509    1.914597   \n",
              "4   0.009325     0.505593    0.040398    356.730934    88.047795   15.017792   \n",
              "\n",
              "   ...   EXP_MDV   EXP_NPL     EXP_TUR   EXP_PAK  EXP_LKA    EXP_CUB  \\\n",
              "0  ...  0.000000  0.865281  132.020508  2.572569      0.0  30.970039   \n",
              "1  ...  0.000000  0.000000    0.161072  0.000000      0.0   0.000000   \n",
              "2  ...  0.000000  0.000000    0.000000  0.000000      0.0   0.000000   \n",
              "3  ...  0.000000  0.000000    0.000000  0.000000      0.0   0.019760   \n",
              "4  ...  0.035902  0.000000    0.131605  0.547536      0.0   3.120524   \n",
              "\n",
              "    EXP_SUR      EXP_ROW   Adjustment        Output  \n",
              "0  0.011896  2403.097412 -1695.114624  64585.080680  \n",
              "1  0.000000     0.815166     5.434752   1430.287291  \n",
              "2  0.000000     0.000000  1847.147827  23964.065765  \n",
              "3  0.000000     0.432800   355.133514   7486.322979  \n",
              "4  0.039276   414.973785   -30.369465  17628.831707  \n",
              "\n",
              "[5 rows x 798 columns]"
            ]
          },
          "execution_count": 6,
          "metadata": {},
          "output_type": "execute_result"
        }
      ],
      "source": [
        "# Leemos el archivo completo.\n",
        "MIP_Latinoamericana_2011 = pd.read_excel(\"MIP_Latinoamericana_2011.xlsx\", engine = \"openpyxl\", sheet_name = None)\n",
        "\n",
        "# Seleccionamos la hoja \"LAT_IOT_2011\".\n",
        "LAT_IOT_2011 = MIP_Latinoamericana_2011[\"LAT_IOT_2011\"]\n",
        "LAT_IOT_2011.head()"
      ]
    },
    {
      "cell_type": "markdown",
      "id": "5e7fc6a0",
      "metadata": {
        "id": "5e7fc6a0"
      },
      "source": [
        "En segundo lugar, vamos a seleccionar los dos países que nos fueron asignados para la realización de esta consigna, los cuales son: Brasil (BRA) y Guatemala (GTM). Además, vamos a generar la matriz de Insumo-Producto de las regiones mencionadas."
      ]
    },
    {
      "cell_type": "code",
      "execution_count": 7,
      "id": "888419f1",
      "metadata": {
        "id": "888419f1",
        "outputId": "e7d0ff5d-e844-4b3c-cba7-049f95432dec"
      },
      "outputs": [
        {
          "data": {
            "text/html": [
              "<div>\n",
              "<style scoped>\n",
              "    .dataframe tbody tr th:only-of-type {\n",
              "        vertical-align: middle;\n",
              "    }\n",
              "\n",
              "    .dataframe tbody tr th {\n",
              "        vertical-align: top;\n",
              "    }\n",
              "\n",
              "    .dataframe thead th {\n",
              "        text-align: right;\n",
              "    }\n",
              "</style>\n",
              "<table border=\"1\" class=\"dataframe\">\n",
              "  <thead>\n",
              "    <tr style=\"text-align: right;\">\n",
              "      <th></th>\n",
              "      <th>BRAs1</th>\n",
              "      <th>BRAs2</th>\n",
              "      <th>BRAs3</th>\n",
              "      <th>BRAs4</th>\n",
              "      <th>BRAs5</th>\n",
              "      <th>BRAs6</th>\n",
              "      <th>BRAs7</th>\n",
              "      <th>BRAs8</th>\n",
              "      <th>BRAs9</th>\n",
              "      <th>BRAs10</th>\n",
              "      <th>...</th>\n",
              "      <th>GTMs31</th>\n",
              "      <th>GTMs32</th>\n",
              "      <th>GTMs33</th>\n",
              "      <th>GTMs34</th>\n",
              "      <th>GTMs35</th>\n",
              "      <th>GTMs36</th>\n",
              "      <th>GTMs37</th>\n",
              "      <th>GTMs38</th>\n",
              "      <th>GTMs39</th>\n",
              "      <th>GTMs40</th>\n",
              "    </tr>\n",
              "  </thead>\n",
              "  <tbody>\n",
              "    <tr>\n",
              "      <th>0</th>\n",
              "      <td>8759.594677</td>\n",
              "      <td>1.838029e+02</td>\n",
              "      <td>12.237987</td>\n",
              "      <td>14.005361</td>\n",
              "      <td>29373.005548</td>\n",
              "      <td>9446.762361</td>\n",
              "      <td>15538.555687</td>\n",
              "      <td>23421.869850</td>\n",
              "      <td>1013.335027</td>\n",
              "      <td>2589.431793</td>\n",
              "      <td>...</td>\n",
              "      <td>0.0</td>\n",
              "      <td>0.0</td>\n",
              "      <td>0.004689</td>\n",
              "      <td>0.000000</td>\n",
              "      <td>0.004131</td>\n",
              "      <td>8.510000e-07</td>\n",
              "      <td>0.000000</td>\n",
              "      <td>0.000000</td>\n",
              "      <td>0.000002</td>\n",
              "      <td>0.224915</td>\n",
              "    </tr>\n",
              "    <tr>\n",
              "      <th>1</th>\n",
              "      <td>183.802943</td>\n",
              "      <td>3.856745e+00</td>\n",
              "      <td>0.256790</td>\n",
              "      <td>0.293875</td>\n",
              "      <td>616.335010</td>\n",
              "      <td>198.221812</td>\n",
              "      <td>326.046167</td>\n",
              "      <td>491.462079</td>\n",
              "      <td>21.262851</td>\n",
              "      <td>54.334156</td>\n",
              "      <td>...</td>\n",
              "      <td>0.0</td>\n",
              "      <td>0.0</td>\n",
              "      <td>0.000000</td>\n",
              "      <td>0.000000</td>\n",
              "      <td>0.000000</td>\n",
              "      <td>0.000000e+00</td>\n",
              "      <td>0.000000</td>\n",
              "      <td>0.000000</td>\n",
              "      <td>0.000000</td>\n",
              "      <td>0.000000</td>\n",
              "    </tr>\n",
              "    <tr>\n",
              "      <th>2</th>\n",
              "      <td>28.515684</td>\n",
              "      <td>5.983458e-01</td>\n",
              "      <td>4234.896096</td>\n",
              "      <td>97.541854</td>\n",
              "      <td>4.406442</td>\n",
              "      <td>149.753630</td>\n",
              "      <td>3.314964</td>\n",
              "      <td>25.225517</td>\n",
              "      <td>38.806077</td>\n",
              "      <td>0.140032</td>\n",
              "      <td>...</td>\n",
              "      <td>0.0</td>\n",
              "      <td>0.0</td>\n",
              "      <td>0.000000</td>\n",
              "      <td>0.000000</td>\n",
              "      <td>0.000000</td>\n",
              "      <td>0.000000e+00</td>\n",
              "      <td>0.000000</td>\n",
              "      <td>0.000000</td>\n",
              "      <td>0.000000</td>\n",
              "      <td>0.000000</td>\n",
              "    </tr>\n",
              "    <tr>\n",
              "      <th>3</th>\n",
              "      <td>322.237628</td>\n",
              "      <td>6.761526e+00</td>\n",
              "      <td>226.599170</td>\n",
              "      <td>1072.567732</td>\n",
              "      <td>35.324905</td>\n",
              "      <td>124.788515</td>\n",
              "      <td>10.128543</td>\n",
              "      <td>23.269877</td>\n",
              "      <td>7.144141</td>\n",
              "      <td>0.421785</td>\n",
              "      <td>...</td>\n",
              "      <td>0.0</td>\n",
              "      <td>0.0</td>\n",
              "      <td>0.009515</td>\n",
              "      <td>0.002041</td>\n",
              "      <td>0.144269</td>\n",
              "      <td>3.795410e-04</td>\n",
              "      <td>0.000000</td>\n",
              "      <td>0.000000</td>\n",
              "      <td>0.013251</td>\n",
              "      <td>0.016241</td>\n",
              "    </tr>\n",
              "    <tr>\n",
              "      <th>4</th>\n",
              "      <td>745.918167</td>\n",
              "      <td>1.565163e+01</td>\n",
              "      <td>2.192449</td>\n",
              "      <td>1.237900</td>\n",
              "      <td>3554.205906</td>\n",
              "      <td>309.467144</td>\n",
              "      <td>0.527286</td>\n",
              "      <td>337.183320</td>\n",
              "      <td>13.018326</td>\n",
              "      <td>0.280040</td>\n",
              "      <td>...</td>\n",
              "      <td>0.0</td>\n",
              "      <td>0.0</td>\n",
              "      <td>0.000000</td>\n",
              "      <td>0.000000</td>\n",
              "      <td>0.000000</td>\n",
              "      <td>0.000000e+00</td>\n",
              "      <td>0.000000</td>\n",
              "      <td>0.000000</td>\n",
              "      <td>0.000000</td>\n",
              "      <td>0.000000</td>\n",
              "    </tr>\n",
              "    <tr>\n",
              "      <th>...</th>\n",
              "      <td>...</td>\n",
              "      <td>...</td>\n",
              "      <td>...</td>\n",
              "      <td>...</td>\n",
              "      <td>...</td>\n",
              "      <td>...</td>\n",
              "      <td>...</td>\n",
              "      <td>...</td>\n",
              "      <td>...</td>\n",
              "      <td>...</td>\n",
              "      <td>...</td>\n",
              "      <td>...</td>\n",
              "      <td>...</td>\n",
              "      <td>...</td>\n",
              "      <td>...</td>\n",
              "      <td>...</td>\n",
              "      <td>...</td>\n",
              "      <td>...</td>\n",
              "      <td>...</td>\n",
              "      <td>...</td>\n",
              "      <td>...</td>\n",
              "    </tr>\n",
              "    <tr>\n",
              "      <th>75</th>\n",
              "      <td>0.000054</td>\n",
              "      <td>1.133000e-06</td>\n",
              "      <td>0.001167</td>\n",
              "      <td>0.000644</td>\n",
              "      <td>0.000173</td>\n",
              "      <td>0.000048</td>\n",
              "      <td>0.000195</td>\n",
              "      <td>0.000109</td>\n",
              "      <td>0.000010</td>\n",
              "      <td>0.000005</td>\n",
              "      <td>...</td>\n",
              "      <td>0.0</td>\n",
              "      <td>0.0</td>\n",
              "      <td>16.806559</td>\n",
              "      <td>8.178785</td>\n",
              "      <td>92.340199</td>\n",
              "      <td>7.568810e+01</td>\n",
              "      <td>77.970900</td>\n",
              "      <td>13.410398</td>\n",
              "      <td>24.730000</td>\n",
              "      <td>231.419357</td>\n",
              "    </tr>\n",
              "    <tr>\n",
              "      <th>76</th>\n",
              "      <td>0.000000</td>\n",
              "      <td>0.000000e+00</td>\n",
              "      <td>0.023561</td>\n",
              "      <td>0.000000</td>\n",
              "      <td>0.011780</td>\n",
              "      <td>0.023561</td>\n",
              "      <td>0.011780</td>\n",
              "      <td>0.035341</td>\n",
              "      <td>0.023561</td>\n",
              "      <td>0.000000</td>\n",
              "      <td>...</td>\n",
              "      <td>0.0</td>\n",
              "      <td>0.0</td>\n",
              "      <td>4.466365</td>\n",
              "      <td>2.599111</td>\n",
              "      <td>3.444560</td>\n",
              "      <td>1.319104e+02</td>\n",
              "      <td>226.515475</td>\n",
              "      <td>35.006654</td>\n",
              "      <td>41.728949</td>\n",
              "      <td>248.777502</td>\n",
              "    </tr>\n",
              "    <tr>\n",
              "      <th>77</th>\n",
              "      <td>0.002757</td>\n",
              "      <td>5.785900e-05</td>\n",
              "      <td>0.004462</td>\n",
              "      <td>0.002624</td>\n",
              "      <td>0.001858</td>\n",
              "      <td>0.001360</td>\n",
              "      <td>0.001398</td>\n",
              "      <td>0.001762</td>\n",
              "      <td>0.001092</td>\n",
              "      <td>0.000326</td>\n",
              "      <td>...</td>\n",
              "      <td>0.0</td>\n",
              "      <td>0.0</td>\n",
              "      <td>10.281294</td>\n",
              "      <td>144.922489</td>\n",
              "      <td>35.704073</td>\n",
              "      <td>4.839859e+01</td>\n",
              "      <td>208.087697</td>\n",
              "      <td>278.317289</td>\n",
              "      <td>41.882683</td>\n",
              "      <td>900.512152</td>\n",
              "    </tr>\n",
              "    <tr>\n",
              "      <th>78</th>\n",
              "      <td>0.006531</td>\n",
              "      <td>1.370320e-04</td>\n",
              "      <td>0.106584</td>\n",
              "      <td>0.027085</td>\n",
              "      <td>0.004202</td>\n",
              "      <td>0.009390</td>\n",
              "      <td>0.006964</td>\n",
              "      <td>0.007220</td>\n",
              "      <td>0.006135</td>\n",
              "      <td>0.001480</td>\n",
              "      <td>...</td>\n",
              "      <td>0.0</td>\n",
              "      <td>0.0</td>\n",
              "      <td>25.865526</td>\n",
              "      <td>78.384191</td>\n",
              "      <td>133.583750</td>\n",
              "      <td>1.278951e+02</td>\n",
              "      <td>479.048110</td>\n",
              "      <td>304.339726</td>\n",
              "      <td>646.656267</td>\n",
              "      <td>1319.427678</td>\n",
              "    </tr>\n",
              "    <tr>\n",
              "      <th>79</th>\n",
              "      <td>0.000009</td>\n",
              "      <td>1.840000e-07</td>\n",
              "      <td>0.000373</td>\n",
              "      <td>0.000189</td>\n",
              "      <td>0.000953</td>\n",
              "      <td>0.000755</td>\n",
              "      <td>0.000153</td>\n",
              "      <td>0.000535</td>\n",
              "      <td>0.000130</td>\n",
              "      <td>0.000108</td>\n",
              "      <td>...</td>\n",
              "      <td>0.0</td>\n",
              "      <td>0.0</td>\n",
              "      <td>45.672561</td>\n",
              "      <td>42.266268</td>\n",
              "      <td>230.543176</td>\n",
              "      <td>1.523792e+02</td>\n",
              "      <td>157.546918</td>\n",
              "      <td>36.584185</td>\n",
              "      <td>109.321822</td>\n",
              "      <td>1132.678517</td>\n",
              "    </tr>\n",
              "  </tbody>\n",
              "</table>\n",
              "<p>80 rows × 80 columns</p>\n",
              "</div>"
            ],
            "text/plain": [
              "          BRAs1         BRAs2        BRAs3        BRAs4         BRAs5  \\\n",
              "0   8759.594677  1.838029e+02    12.237987    14.005361  29373.005548   \n",
              "1    183.802943  3.856745e+00     0.256790     0.293875    616.335010   \n",
              "2     28.515684  5.983458e-01  4234.896096    97.541854      4.406442   \n",
              "3    322.237628  6.761526e+00   226.599170  1072.567732     35.324905   \n",
              "4    745.918167  1.565163e+01     2.192449     1.237900   3554.205906   \n",
              "..          ...           ...          ...          ...           ...   \n",
              "75     0.000054  1.133000e-06     0.001167     0.000644      0.000173   \n",
              "76     0.000000  0.000000e+00     0.023561     0.000000      0.011780   \n",
              "77     0.002757  5.785900e-05     0.004462     0.002624      0.001858   \n",
              "78     0.006531  1.370320e-04     0.106584     0.027085      0.004202   \n",
              "79     0.000009  1.840000e-07     0.000373     0.000189      0.000953   \n",
              "\n",
              "          BRAs6         BRAs7         BRAs8        BRAs9       BRAs10  ...  \\\n",
              "0   9446.762361  15538.555687  23421.869850  1013.335027  2589.431793  ...   \n",
              "1    198.221812    326.046167    491.462079    21.262851    54.334156  ...   \n",
              "2    149.753630      3.314964     25.225517    38.806077     0.140032  ...   \n",
              "3    124.788515     10.128543     23.269877     7.144141     0.421785  ...   \n",
              "4    309.467144      0.527286    337.183320    13.018326     0.280040  ...   \n",
              "..          ...           ...           ...          ...          ...  ...   \n",
              "75     0.000048      0.000195      0.000109     0.000010     0.000005  ...   \n",
              "76     0.023561      0.011780      0.035341     0.023561     0.000000  ...   \n",
              "77     0.001360      0.001398      0.001762     0.001092     0.000326  ...   \n",
              "78     0.009390      0.006964      0.007220     0.006135     0.001480  ...   \n",
              "79     0.000755      0.000153      0.000535     0.000130     0.000108  ...   \n",
              "\n",
              "    GTMs31  GTMs32     GTMs33      GTMs34      GTMs35        GTMs36  \\\n",
              "0      0.0     0.0   0.004689    0.000000    0.004131  8.510000e-07   \n",
              "1      0.0     0.0   0.000000    0.000000    0.000000  0.000000e+00   \n",
              "2      0.0     0.0   0.000000    0.000000    0.000000  0.000000e+00   \n",
              "3      0.0     0.0   0.009515    0.002041    0.144269  3.795410e-04   \n",
              "4      0.0     0.0   0.000000    0.000000    0.000000  0.000000e+00   \n",
              "..     ...     ...        ...         ...         ...           ...   \n",
              "75     0.0     0.0  16.806559    8.178785   92.340199  7.568810e+01   \n",
              "76     0.0     0.0   4.466365    2.599111    3.444560  1.319104e+02   \n",
              "77     0.0     0.0  10.281294  144.922489   35.704073  4.839859e+01   \n",
              "78     0.0     0.0  25.865526   78.384191  133.583750  1.278951e+02   \n",
              "79     0.0     0.0  45.672561   42.266268  230.543176  1.523792e+02   \n",
              "\n",
              "        GTMs37      GTMs38      GTMs39       GTMs40  \n",
              "0     0.000000    0.000000    0.000002     0.224915  \n",
              "1     0.000000    0.000000    0.000000     0.000000  \n",
              "2     0.000000    0.000000    0.000000     0.000000  \n",
              "3     0.000000    0.000000    0.013251     0.016241  \n",
              "4     0.000000    0.000000    0.000000     0.000000  \n",
              "..         ...         ...         ...          ...  \n",
              "75   77.970900   13.410398   24.730000   231.419357  \n",
              "76  226.515475   35.006654   41.728949   248.777502  \n",
              "77  208.087697  278.317289   41.882683   900.512152  \n",
              "78  479.048110  304.339726  646.656267  1319.427678  \n",
              "79  157.546918   36.584185  109.321822  1132.678517  \n",
              "\n",
              "[80 rows x 80 columns]"
            ]
          },
          "execution_count": 7,
          "metadata": {},
          "output_type": "execute_result"
        }
      ],
      "source": [
        "# Seleccionamos las filas correspondientes.\n",
        "M_insumo_producto = LAT_IOT_2011[(LAT_IOT_2011[\"Country_iso3\"] == \"BRA\") | (LAT_IOT_2011[\"Country_iso3\"] == \"GTM\")]\n",
        "\n",
        "# Seleccionamos las columnas correspondientes y me guardo los datos de los outputs en una variable.\n",
        "outputs = M_insumo_producto[\"Output\"].to_numpy()\n",
        "sectores_BRA = []\n",
        "sectores_GTM = []\n",
        "\n",
        "for sector in range(40):\n",
        "    sector_bra = \"BRAs\" + str(sector + 1)\n",
        "    sector_gtm = \"GTMs\" + str(sector + 1)\n",
        "\n",
        "    sectores_BRA.append(sector_bra)\n",
        "    sectores_GTM.append(sector_gtm)\n",
        "\n",
        "M_insumo_producto = M_insumo_producto[sectores_BRA + sectores_GTM]\n",
        "\n",
        "# Acomodamos los índices.\n",
        "M_insumo_producto = M_insumo_producto.reset_index().drop(columns = [\"index\"])\n",
        "M_insumo_producto #matriz Z"
      ]
    },
    {
      "cell_type": "markdown",
      "id": "987353f0",
      "metadata": {},
      "source": [
        "Ahora veamos nuestro vector de produccion $p$:"
      ]
    },
    {
      "cell_type": "code",
      "execution_count": 8,
      "id": "505977ef",
      "metadata": {},
      "outputs": [
        {
          "data": {
            "text/plain": [
              "array([1.89993205e+05, 3.98663540e+03, 9.48906018e+04, 6.15801957e+04,\n",
              "       7.12700860e+04, 6.14544916e+04, 3.30969463e+04, 6.61055440e+04,\n",
              "       3.37432553e+04, 7.75985769e+03, 2.55991699e+04, 3.21944856e+04,\n",
              "       1.93412393e+04, 1.31692855e+04, 5.93934183e+04, 1.50356359e+05,\n",
              "       7.65045953e+04, 4.62466647e+04, 2.53720723e+04, 4.73418322e+04,\n",
              "       4.29060184e+04, 5.69427809e+04, 2.37361399e+04, 4.78991995e+04,\n",
              "       6.40373555e+04, 1.35615726e+04, 3.71236288e+04, 2.23480524e+04,\n",
              "       4.71000147e+03, 1.49846428e+05, 6.16953978e+03, 1.60047857e+04,\n",
              "       3.30418025e+04, 9.74598280e+04, 3.01153276e+05, 2.02774978e+05,\n",
              "       1.09549363e+05, 2.36010673e+05, 3.30147643e+05, 1.49549837e+06,\n",
              "       6.98381531e+03, 1.20523825e+02, 3.65276598e+02, 1.18381380e+03,\n",
              "       3.04270659e+03, 4.28618539e+03, 1.48947603e+03, 1.13981362e+03,\n",
              "       1.11858633e+03, 8.18022505e+01, 5.13614722e+02, 2.30616399e+03,\n",
              "       3.04245401e+02, 3.08072072e+02, 6.74653838e+02, 3.10160627e+01,\n",
              "       6.42136252e+02, 7.56238671e+02, 3.76274013e+02, 9.24665138e+02,\n",
              "       1.13363030e+03, 2.24676872e+02, 0.00000000e+00, 9.35776714e+02,\n",
              "       1.27478144e+02, 0.00000000e+00, 2.31148026e+01, 0.00000000e+00,\n",
              "       2.20378233e+01, 4.40573253e+01, 0.00000000e+00, 0.00000000e+00,\n",
              "       9.08909585e+02, 1.46210217e+03, 4.87819453e+03, 2.70203800e+03,\n",
              "       3.74816010e+03, 2.26752733e+03, 7.82280848e+03, 2.33882729e+04])"
            ]
          },
          "execution_count": 8,
          "metadata": {},
          "output_type": "execute_result"
        }
      ],
      "source": [
        "vector_de_produccion = LAT_IOT_2011[(LAT_IOT_2011[\"Country_iso3\"] == \"BRA\") | (LAT_IOT_2011[\"Country_iso3\"] == \"GTM\")][\"Output\"].to_numpy()\n",
        "\n",
        "p = vector_de_produccion\n",
        "p"
      ]
    },
    {
      "cell_type": "markdown",
      "id": "fc2f3969",
      "metadata": {},
      "source": [
        "Ahora veamos de calcular los coeficientes tecnicos de la matriz $A$, sabiendo que:\n",
        "\n",
        "$$\n",
        "a_{ij} = \\frac{z_{ij}}{p_j}\n",
        "$$"
      ]
    },
    {
      "cell_type": "code",
      "execution_count": 9,
      "id": "3ca9c83b",
      "metadata": {},
      "outputs": [
        {
          "data": {
            "text/plain": [
              "array([[4.61047789e-02, 4.61047789e-02, 1.28969429e-04, ...,\n",
              "        0.00000000e+00, 2.11560849e-10, 9.61656254e-06],\n",
              "       [9.67418512e-04, 9.67418512e-04, 2.70617094e-06, ...,\n",
              "        0.00000000e+00, 0.00000000e+00, 0.00000000e+00],\n",
              "       [1.50087913e-04, 1.50087913e-04, 4.46292469e-02, ...,\n",
              "        0.00000000e+00, 0.00000000e+00, 0.00000000e+00],\n",
              "       ...,\n",
              "       [1.45133454e-08, 1.45132409e-08, 4.70261640e-08, ...,\n",
              "        1.22740434e-01, 5.35391897e-03, 3.85027213e-02],\n",
              "       [3.43730610e-08, 3.43728449e-08, 1.12323319e-06, ...,\n",
              "        1.34216563e-01, 8.26629296e-02, 5.64140706e-02],\n",
              "       [4.63437628e-11, 4.61542082e-11, 3.93179085e-09, ...,\n",
              "        1.61339556e-02, 1.39747537e-02, 4.84293356e-02]])"
            ]
          },
          "execution_count": 9,
          "metadata": {},
          "output_type": "execute_result"
        }
      ],
      "source": [
        "#reemplazamos los 0s por 1s en el vector de producción\n",
        "p_mod = np.where(p == 0, 1, p)\n",
        "\n",
        "#creamos la matriz diagonal P a partir del vector de producción modificado\n",
        "matriz_P = np.diag(p_mod.flatten())\n",
        "\n",
        "#calculamos la inversa de la matriz diagonal\n",
        "P, L, U = calcularLU(matriz_P)\n",
        "\n",
        "#calculamos A\n",
        "A = M_insumo_producto.to_numpy() @ inversaLU(L, U, P)\n",
        "A"
      ]
    },
    {
      "cell_type": "markdown",
      "id": "ecbbc54c",
      "metadata": {},
      "source": [
        "Ahora bien, de acuerdo a la ecuacion (1) tenemos que:\n",
        "\n",
        "$$\n",
        "(I-A)^{-1}d = p\n",
        "$$\n",
        "\n",
        "De esta manera, nuestro $d$ es:"
      ]
    },
    {
      "cell_type": "code",
      "execution_count": 10,
      "id": "11a19efa",
      "metadata": {},
      "outputs": [
        {
          "data": {
            "text/plain": [
              "array([ 7.88079408e+04,  1.65376967e+03,  3.29128276e+04,  4.18981080e+04,\n",
              "        5.76706192e+04,  4.46597707e+04,  1.91188021e+04,  4.47211198e+04,\n",
              "        1.82538244e+04,  7.28506216e+03,  9.25042219e+03,  2.77097459e+04,\n",
              "        1.62352434e+04,  3.47806908e+03,  1.99339674e+04,  4.45356710e+04,\n",
              "        1.97145622e+04,  1.74184450e+04,  1.92436769e+04,  9.75120553e+03,\n",
              "        5.92437266e+03,  1.47424434e+04,  9.19071381e+03,  1.46910642e+04,\n",
              "        4.67651698e+04,  1.10495168e+04,  2.04479758e+04,  1.82082866e+04,\n",
              "        3.83653139e+03,  1.06450337e+05,  4.93964597e+03,  1.28142419e+04,\n",
              "        2.53309409e+04,  2.94834618e+04,  2.51915920e+05,  6.50067588e+04,\n",
              "        4.27907585e+04,  1.18139018e+05,  8.17205221e+04,  1.20243202e+06,\n",
              "        5.58653491e+03,  9.46933006e+01,  3.63512537e+02,  9.01841502e+02,\n",
              "        2.40377956e+03,  3.57076595e+03,  1.27846029e+03,  6.81444789e+02,\n",
              "        9.88521289e+02,  8.12426815e+01,  3.17380279e+02,  2.19673766e+03,\n",
              "        2.87297456e+02,  5.84371795e+01,  3.58213493e+02,  9.86166340e+00,\n",
              "        3.38079836e+02,  7.17218241e+02,  3.42961835e+02,  4.90837005e+02,\n",
              "        1.77330774e+02,  1.17772649e+02, -7.51677380e+00,  4.86993180e+02,\n",
              "        1.11775290e+02,  0.00000000e+00,  1.17333823e+01,  0.00000000e+00,\n",
              "        1.34365313e+01,  3.99159517e+01,  0.00000000e+00,  0.00000000e+00,\n",
              "        7.50251982e+02,  4.55918371e+02,  3.40602469e+03,  1.81071536e+03,\n",
              "        2.96406700e+03,  4.01666286e+02,  4.10203913e+03,  1.93719569e+04])"
            ]
          },
          "execution_count": 10,
          "metadata": {},
          "output_type": "execute_result"
        }
      ],
      "source": [
        "I = np.eye(A.shape[0])\n",
        "P, L, U = calcularLU(I-A)\n",
        "iA_inv = inversaLU(L, U, P)\n",
        "d = solve(iA_inv, p)\n",
        "d"
      ]
    },
    {
      "cell_type": "markdown",
      "id": "b8501a94",
      "metadata": {},
      "source": [
        "Veamos ahora de aplicar el shock en la demanda de los sectores correspondientes:"
      ]
    },
    {
      "cell_type": "code",
      "execution_count": 11,
      "id": "dea66737",
      "metadata": {},
      "outputs": [],
      "source": [
        "#primero determinamos los indices correspondientes a los sectores en P1 (osea BRA)\n",
        "indice_s05 = sectores_BRA.index(\"BRAs5\") \n",
        "indice_s06 = sectores_BRA.index(\"BRAs6\") \n",
        "indice_s07 = sectores_BRA.index(\"BRAs7\") \n",
        "indice_s08 = sectores_BRA.index(\"BRAs8\")\n",
        "\n",
        "#aplicamos los shocks\n",
        "d_shockeado = d.copy()\n",
        "\n",
        "d_shockeado[indice_s05] *= (1 - 0.10)\n",
        "d_shockeado[indice_s06] *= (1 + 0.033)\n",
        "d_shockeado[indice_s07] *= (1 + 0.033)\n",
        "d_shockeado[indice_s08] *= (1 + 0.033)\n"
      ]
    },
    {
      "cell_type": "markdown",
      "id": "92d2de84",
      "metadata": {},
      "source": [
        "La ecuacion (5) nos dice que:\n",
        "\n",
        "$$\n",
        "(I-A^{rr})\\Delta p^r = \\Delta d^r\n",
        "$$\n",
        "\n",
        "Por lo tanto:"
      ]
    },
    {
      "cell_type": "code",
      "execution_count": 12,
      "id": "26f04da4",
      "metadata": {},
      "outputs": [
        {
          "data": {
            "text/plain": [
              "array([ 1.60597556e+03,  3.36982527e+01,  4.83394985e+01,  5.99353543e+00,\n",
              "        6.06507468e+03, -1.36231172e+03, -6.80429357e+02, -1.28003817e+03,\n",
              "       -1.42891318e-02,  6.19445944e-03,  4.59971253e-01,  1.42535507e+00,\n",
              "        8.11352222e-01,  7.91121901e-02,  7.97506568e+00,  1.32269621e+02,\n",
              "        1.35052544e+02,  5.55744362e+01,  1.32373724e+01,  2.96032385e+00,\n",
              "        6.53490894e+00,  7.00728303e+00, -3.59484222e+00,  2.58436170e+01,\n",
              "        2.97368988e+00,  5.21053983e-01,  4.15568495e+00,  8.58642436e-01,\n",
              "        1.80964635e-01,  6.30159091e+00,  1.78605654e-01,  4.63332004e-01,\n",
              "        1.90636320e+00,  7.71978180e+01,  6.34921474e+00,  1.45903414e+02,\n",
              "        5.60712473e+00,  1.14861126e+02,  3.72467634e+01,  3.58491969e+02])"
            ]
          },
          "execution_count": 12,
          "metadata": {},
          "output_type": "execute_result"
        }
      ],
      "source": [
        "delta_d = d[:40] - d_shockeado[:40]\n",
        "A_rr = A[:40, :40]\n",
        "I = np.eye(40)\n",
        "\n",
        "#calculamos los nuevos niveles de produccion\n",
        "delta_p = solve((I-A_rr), delta_d)\n",
        "delta_p"
      ]
    },
    {
      "cell_type": "markdown",
      "id": "f67d800b",
      "metadata": {},
      "source": [
        "Veamoslo con un histograma:"
      ]
    },
    {
      "cell_type": "code",
      "execution_count": 13,
      "id": "55bdf207",
      "metadata": {},
      "outputs": [
        {
          "data": {
            "image/png": "[encoded data removed]",
            "text/plain": [
              "<Figure size 1000x600 with 1 Axes>"
            ]
          },
          "metadata": {},
          "output_type": "display_data"
        }
      ],
      "source": [
        "#enumeramos los sectores\n",
        "sectores = np.arange(1, 41)\n",
        "valores = delta_p.flatten()\n",
        "\n",
        "#creamos el histograma\n",
        "plt.figure(figsize=(10, 6))\n",
        "colores = ['red' if valor < 0 else 'green' for valor in valores]\n",
        "plt.bar(sectores, valores, color=colores)\n",
        "\n",
        "plt.xlabel('Sectores')\n",
        "plt.ylabel('Variacion de produccion')\n",
        "plt.title('Variacion de produccion por sector - Modelo de region simple')\n",
        "\n",
        "plt.show()"
      ]
    },
    {
      "cell_type": "markdown",
      "id": "56fdf8f2",
      "metadata": {},
      "source": [
        "- Los sectores representados por las barras verdes muestran un aumento en la producción. Destaca un sector, probablemente el sector 5, que tiene una variación de producción muy alta, por encima de 6000 unidades, lo que indica que este sector es particularmente sensible o beneficiado bajo el modelo de región simple\n",
        "\n",
        "- Los sectores en rojo indican una disminución en la producción. En particular, hay un par de sectores (probablemente los sectores 6, 7 y 8) donde se observa una caída significativa en la producción, lo cual puede indicar que estos sectores sufren en este modelo bajo ciertas condiciones o shocks\n",
        "\n",
        "- En general no todos los sectores presentan grandes variaciones. La mayor parte de los sectores (especialmente entre el 10 y el 35) parecen tener cambios marginales o nulos en la producción. Esto sugiere que el modelo simple podría estar favoreciendo algunos sectores clave y afectando negativamente a unos pocos, mientras que el resto permanece relativamente constante"
      ]
    },
    {
      "cell_type": "markdown",
      "id": "d2e2b2d6",
      "metadata": {},
      "source": [
        "Veamos ahora de hacer lo mismo a traves de un analisis regional. Siendo:\n",
        "\n",
        "$$\n",
        "\\left(\\left(\\begin{array}{ll}\n",
        "I_{n \\times n} & 0_{n \\times m} \\\\\n",
        "0_{m \\times n} & I_{m \\times m}\n",
        "\\end{array}\\right)-\\left(\\begin{array}{ll}\n",
        "A^{r r} & A^{r s} \\\\\n",
        "A^{s r} & A^{s s}\n",
        "\\end{array}\\right)\\right)\\binom{p^r}{p^s}=\\binom{d^r}{d^s}\n",
        "$$\n",
        "\n",
        "En la consigna 6 vimos que:\n",
        "\n",
        "$$\n",
        "\\left(I-A^{r r}\\right)p^r+  A^{r s} p^s=d^r\n",
        "$$\n",
        "\n",
        "Veamos de obtener $d^r$:"
      ]
    },
    {
      "cell_type": "code",
      "execution_count": 14,
      "id": "935ab014",
      "metadata": {},
      "outputs": [
        {
          "data": {
            "text/plain": [
              "array([  78821.22119216,    1653.76966512,   32912.82761611,\n",
              "         41898.89985016,   57670.619198  ,   44659.77066627,\n",
              "         19118.84106944,   44721.57510088,   18253.82438895,\n",
              "          7285.0621594 ,    9252.40231906,   27713.12503416,\n",
              "         16235.24341903,    3482.51715354,   19962.94908739,\n",
              "         44536.81271834,   19736.73478477,   17422.48685853,\n",
              "         19263.28836418,    9772.74355915,    5933.82684758,\n",
              "         14779.97784672,    9193.82169075,   14707.27798871,\n",
              "         46776.07867035,   11049.5295608 ,   20467.67642563,\n",
              "         18208.62916907,    3838.57711534,  106459.01469414,\n",
              "          4939.6459739 ,   12814.24194572,   25333.80713273,\n",
              "         29483.46181341,  251915.91973644,   65010.59721795,\n",
              "         42790.7590975 ,  118139.01787797,   81723.51420177,\n",
              "       1202432.03316326])"
            ]
          },
          "execution_count": 14,
          "metadata": {},
          "output_type": "execute_result"
        }
      ],
      "source": [
        "# definimos todas las variables necesarias\n",
        "A_rr = A[:40, :40]\n",
        "A_rs = A[:40, 40:]\n",
        "p_r = p[:40]\n",
        "p_s = p[40:]\n",
        "\n",
        "d_r = ((I - A_rr) @ p_r)+(A_rs @ p_s)\n",
        "d_r"
      ]
    },
    {
      "cell_type": "markdown",
      "id": "f91c8474",
      "metadata": {},
      "source": [
        "Nuevamente aplicamos el shock en la demanda de los sectores correspondientes:"
      ]
    },
    {
      "cell_type": "code",
      "execution_count": 15,
      "id": "9dd83a30",
      "metadata": {},
      "outputs": [],
      "source": [
        "#aplicamos los shocks\n",
        "d_r_shockeado = d_r.copy()\n",
        "\n",
        "d_r_shockeado[indice_s05] *= (1 - 0.10)\n",
        "d_r_shockeado[indice_s06] *= (1 + 0.033)\n",
        "d_r_shockeado[indice_s07] *= (1 + 0.033)\n",
        "d_r_shockeado[indice_s08] *= (1 + 0.033)"
      ]
    },
    {
      "cell_type": "markdown",
      "id": "8b1b555a",
      "metadata": {},
      "source": [
        "Como:\n",
        "\n",
        "$$\n",
        "\\left(I-A^{r r}-A^{r s}\\left(I-A^{s s}\\right)^{-1} A^{s r}\\right) \\Delta p^r=\\Delta d^r\n",
        "$$\n",
        "\n",
        "Tenemos que:"
      ]
    },
    {
      "cell_type": "code",
      "execution_count": 16,
      "id": "08014b3c",
      "metadata": {},
      "outputs": [
        {
          "data": {
            "text/plain": [
              "array([ 1.60596838e+03,  3.36981021e+01,  4.83390239e+01,  5.99346401e+00,\n",
              "        6.06507454e+03, -1.36231237e+03, -6.80430982e+02, -1.28005454e+03,\n",
              "       -1.43720782e-02,  6.19419087e-03,  4.59936770e-01,  1.42534116e+00,\n",
              "        8.11347185e-01,  7.90805389e-02,  7.97460532e+00,  1.32268431e+02,\n",
              "        1.35051634e+02,  5.55739894e+01,  1.32372960e+01,  2.95983529e+00,\n",
              "        6.53477344e+00,  7.00716294e+00, -3.59490575e+00,  2.58434080e+01,\n",
              "        2.97363980e+00,  5.21047012e-01,  4.15563636e+00,  8.58630957e-01,\n",
              "        1.80962211e-01,  6.30148908e+00,  1.78602364e-01,  4.63323468e-01,\n",
              "        1.90634080e+00,  7.71972094e+01,  6.34913739e+00,  1.45901078e+02,\n",
              "        5.60674626e+00,  1.14860240e+02,  3.72448639e+01,  3.58489154e+02])"
            ]
          },
          "execution_count": 16,
          "metadata": {},
          "output_type": "execute_result"
        }
      ],
      "source": [
        "#definimos todas las variables necesarias\n",
        "A_rr = A[:40, :40]\n",
        "A_rs = A[:40, 40:]\n",
        "A_sr = A[40:, :40]\n",
        "A_ss = A[40:, 40:]\n",
        "delta_d_r = d_r - d_r_shockeado\n",
        "P, L, U = calcularLU(I-A_ss)\n",
        "\n",
        "#calculamos la produccion\n",
        "delta_p2 = solve((I - A_rr - (A_rs @ inversaLU(L, U, P) @ A_sr)), delta_d_r)\n",
        "delta_p2"
      ]
    },
    {
      "cell_type": "markdown",
      "id": "8bcb93a3",
      "metadata": {},
      "source": [
        "Vamos a visualizar las matrices inter-regionales $A^{rs}$ y $A^{sr}$, que reflejan las interacciones entre los sectores productivos de Brasil y Guatemala. Estas matrices contienen los coeficientes técnicos que describen la dependencia de la producción de un país sobre los insumos del otro.\n",
        "\n",
        "El propósito de esta visualización es destacar lo pequeños que son los valores de los coeficientes técnicos inter-regionales"
      ]
    },
    {
      "cell_type": "code",
      "execution_count": 17,
      "id": "73153b08",
      "metadata": {},
      "outputs": [
        {
          "data": {
            "image/png": "[encoded data removed]",
            "text/plain": [
              "<Figure size 1400x600 with 4 Axes>"
            ]
          },
          "metadata": {},
          "output_type": "display_data"
        }
      ],
      "source": [
        "plt.figure(figsize=(14, 6))\n",
        "\n",
        "# Mapa de calor para la matriz A_rs (interacciones de Brasil a Guatemala)\n",
        "plt.subplot(1, 2, 1)\n",
        "sns.heatmap(A_rs, cmap=\"Reds\", annot=False, linewidths=.5)\n",
        "plt.title('Matriz $A^{rs}$ (Brasil -> Guatemala)')\n",
        "plt.xlabel('Sectores de Guatemala')\n",
        "plt.ylabel('Sectores de Brasil')\n",
        "\n",
        "# Mapa de calor para la matriz A_sr (interacciones de Guatemala a Brasil)\n",
        "plt.subplot(1, 2, 2)\n",
        "sns.heatmap(A_sr, cmap=\"Reds\", annot=False, linewidths=.5)\n",
        "plt.title('Matriz $A^{sr}$ (Guatemala -> Brasil)')\n",
        "plt.xlabel('Sectores de Brasil')\n",
        "plt.ylabel('Sectores de Guatemala')\n",
        "\n",
        "plt.tight_layout()\n",
        "plt.show()\n"
      ]
    },
    {
      "cell_type": "markdown",
      "id": "4bf1cbb3",
      "metadata": {},
      "source": [
        "Asimetría en las interacciones:\n",
        "\n",
        "- La matriz $A^{rs}$ (Brasil → Guatemala) muestra varias interacciones entre sectores, donde los valores más altos se concentran principalmente en los sectores alrededor del 15 al 30 de ambos países. Esto indica que Guatemala depende de ciertos insumos provenientes de sectores específicos de Brasil para su producción.\n",
        "\n",
        "- En contraste, la matriz $A^{sr}$ (Guatemala → Brasil) presenta valores mucho más pequeños y dispersos, lo que refleja que la dependencia de Brasil sobre los insumos provenientes de Guatemala es menor. Esto sugiere una relación asimétrica, donde Brasil exporta más insumos clave a Guatemala de los que importa de este país."
      ]
    },
    {
      "cell_type": "code",
      "execution_count": 18,
      "id": "34acb295",
      "metadata": {},
      "outputs": [
        {
          "data": {
            "image/png": "[encoded data removed]",
            "text/plain": [
              "<Figure size 1000x600 with 1 Axes>"
            ]
          },
          "metadata": {},
          "output_type": "display_data"
        }
      ],
      "source": [
        "plt.figure(figsize=(10, 6))\n",
        "\n",
        "# Aplanar las matrices para obtener los valores en un solo array\n",
        "valores_A_rs = A_rs.flatten()\n",
        "valores_A_sr = A_sr.flatten()\n",
        "\n",
        "# Crear histogramas\n",
        "plt.hist(valores_A_rs, bins=20, alpha=0.5, label='A^{rs} (Brasil -> Guatemala)')\n",
        "plt.hist(valores_A_sr, bins=20, alpha=0.5, label='A^{sr} (Guatemala -> Brasil)')\n",
        "plt.xlabel('Valor del coeficiente técnico')\n",
        "plt.ylabel('Frecuencia')\n",
        "plt.title('Distribución de los Coeficientes Técnicos Inter-regionales')\n",
        "plt.legend(loc='upper right')\n",
        "plt.show()\n"
      ]
    },
    {
      "cell_type": "code",
      "execution_count": 19,
      "id": "dac47ed2",
      "metadata": {},
      "outputs": [
        {
          "data": {
            "image/png": "[encoded data removed]",
            "text/plain": [
              "<Figure size 1000x600 with 1 Axes>"
            ]
          },
          "metadata": {},
          "output_type": "display_data"
        }
      ],
      "source": [
        "#enumeramos los sectores\n",
        "sectores = np.arange(1, 41)\n",
        "valores = delta_p2.flatten()\n",
        "\n",
        "#creamos el histograma\n",
        "plt.figure(figsize=(10, 6))\n",
        "colores = ['red' if valor < 0 else 'green' for valor in valores]\n",
        "plt.bar(sectores, valores, color=colores)\n",
        "\n",
        "\n",
        "plt.xlabel('Sectores')\n",
        "plt.ylabel('Variacion de produccion')\n",
        "plt.title('Variacion de produccion por sector - modelo de regiones')\n",
        "\n",
        "plt.show()"
      ]
    },
    {
      "cell_type": "markdown",
      "id": "e90df187",
      "metadata": {},
      "source": [
        "El gráfico es muy similar al de región simple, lo que indica que las interacciones inter-regionales con Guatemala no introducen cambios sustanciales en la mayoría de los sectores"
      ]
    },
    {
      "cell_type": "markdown",
      "id": "c4d662b7",
      "metadata": {},
      "source": [
        "Notemos que la diferencia entre la variacion de la produccion con el modelo de region simple y el de regiones es practicamente nula. Comprobemos:"
      ]
    },
    {
      "cell_type": "code",
      "execution_count": 23,
      "id": "40c57234",
      "metadata": {},
      "outputs": [
        {
          "data": {
            "text/plain": [
              "array([7.17879162e-03, 1.50619665e-04, 4.74600132e-04, 7.14221586e-05,\n",
              "       1.42232078e-04, 6.49141163e-04, 1.62482904e-03, 1.63713892e-02,\n",
              "       8.29464084e-05, 2.68575188e-07, 3.44836584e-05, 1.39081013e-05,\n",
              "       5.03745289e-06, 3.16512702e-05, 4.60356232e-04, 1.18944549e-03,\n",
              "       9.10172298e-04, 4.46805492e-04, 7.64056520e-05, 4.88563452e-04,\n",
              "       1.35504587e-04, 1.20091326e-04, 6.35267430e-05, 2.08989159e-04,\n",
              "       5.00730313e-05, 6.97094042e-06, 4.85911096e-05, 1.14795169e-05,\n",
              "       2.42376714e-06, 1.01825396e-04, 3.29048649e-06, 8.53605507e-06,\n",
              "       2.23996793e-05, 6.08577251e-04, 7.73507748e-05, 2.33657408e-03,\n",
              "       3.78471109e-04, 8.85304338e-04, 1.89949750e-03, 2.81557981e-03])"
            ]
          },
          "execution_count": 23,
          "metadata": {},
          "output_type": "execute_result"
        }
      ],
      "source": [
        "delta_p - delta_p2"
      ]
    },
    {
      "cell_type": "code",
      "execution_count": 24,
      "id": "11be4e58",
      "metadata": {},
      "outputs": [
        {
          "data": {
            "text/plain": [
              "array([-4.47005035e-04, -4.46965799e-04, -9.81806075e-04, -1.19165323e-03,\n",
              "       -2.34510020e-06,  4.76499728e-05,  2.38794671e-04,  1.27897664e-03,\n",
              "        5.80485990e-01, -4.33573245e-03, -7.49691597e-03, -9.75763976e-04,\n",
              "       -6.20871276e-04, -4.00080823e-02, -5.77244440e-03, -8.99258261e-04,\n",
              "       -6.73939396e-04, -8.03976652e-04, -5.77196514e-04, -1.65037164e-02,\n",
              "       -2.07354974e-03, -1.71380728e-03,  1.76716359e-03, -8.08668383e-04,\n",
              "       -1.68386864e-03, -1.33785378e-03, -1.16926837e-03, -1.33693798e-03,\n",
              "       -1.33935956e-03, -1.61586807e-03, -1.84231933e-03, -1.84231933e-03,\n",
              "       -1.17499537e-03, -7.88334783e-04, -1.21827309e-03, -1.60145264e-03,\n",
              "       -6.74982504e-03, -7.70760632e-04, -5.09976524e-03, -7.85395503e-04])"
            ]
          },
          "execution_count": 24,
          "metadata": {},
          "output_type": "execute_result"
        }
      ],
      "source": [
        "variacion_porcentual = ((delta_p2 - delta_p) / delta_p) * 100\n",
        "variacion_porcentual"
      ]
    },
    {
      "cell_type": "markdown",
      "id": "a0fcb02c",
      "metadata": {},
      "source": [
        "Veamos graficamente la variacion porcentual: "
      ]
    },
    {
      "cell_type": "code",
      "execution_count": 25,
      "id": "42aba62d",
      "metadata": {},
      "outputs": [
        {
          "data": {
            "image/png": "[encoded data removed]",
            "text/plain": [
              "<Figure size 1000x600 with 1 Axes>"
            ]
          },
          "metadata": {},
          "output_type": "display_data"
        }
      ],
      "source": [
        "#enumeramos los sectores\n",
        "sectores = np.arange(1, 41)\n",
        "valores = variacion_porcentual.flatten()\n",
        "\n",
        "#creamos el histograma\n",
        "plt.figure(figsize=(10, 6))\n",
        "colores = ['red' if valor < 0 else 'green' for valor in valores]\n",
        "plt.bar(sectores, valores, color=colores)\n",
        "\n",
        "plt.xlabel('Sectores')\n",
        "plt.ylabel('Variacion porcentual')\n",
        "plt.title('Variacion porcentual entre la variacion de produccion de ambos modelos')\n",
        "\n",
        "plt.show()"
      ]
    },
    {
      "cell_type": "markdown",
      "id": "b0068e10",
      "metadata": {},
      "source": [
        "Con todo esto, concluimos lo siguiente:\n",
        "\n",
        "1. **Comparación entre Modelos de Región Simple y Completa:**\n",
        "   - El modelo de región simple considera solo la matriz intra-regional de Brasil $A^{rr}$, ignorando las interacciones con Guatemala.\n",
        "   - El modelo completo incorpora las interacciones inter-regionales, incluyendo los efectos de las matrices $A^{rs}$ y $A^{sr}$ que reflejan la conexión entre los países.\n",
        "\n",
        "2. **Resultados:**\n",
        "   - Al comparar ambos modelos, observamos que en la mayoría de los sectores brasileños las diferencias en la variación de producción son mínimas, con porcentajes de variación cercanos a cero. Esto sugiere que estos sectores no dependen significativamente de las interacciones con Guatemala\n",
        "   - En algunos sectores, las diferencias son más notables, pero en términos porcentuales, estas variaciones no superan el 60%, lo que indica que, aunque existen interacciones entre Brasil y Guatemala, su impacto sigue siendo limitado en la mayoría de los casos\n",
        "\n",
        "3. **Conclusión y Justificación:**\n",
        "   - Las diferencias porcentuales observadas indican que las interacciones entre Brasil y Guatemala son insignificantes, su influencia es limitada en la mayoría de los sectores. Muchos sectores muestran una baja dependencia de los insumos de Guatemala, lo que sugiere que la economía brasileña en este contexto es relativamente autosuficiente.\n",
        "   - Los sectores donde se aplican los shocks, como BRAs5, BRAs6, BRAs7, y BRAs8, presentan una autosuficiencia alta"
      ]
    }
  ],
  "metadata": {
    "colab": {
      "collapsed_sections": [
        "11f7face-a325-4e30-b13e-0c3d84280c5e"
      ],
      "provenance": []
    },
    "kernelspec": {
      "display_name": "Python 3",
      "language": "python",
      "name": "python3"
    },
    "language_info": {
      "codemirror_mode": {
        "name": "ipython",
        "version": 3
      },
      "file_extension": ".py",
      "mimetype": "text/x-python",
      "name": "python",
      "nbconvert_exporter": "python",
      "pygments_lexer": "ipython3",
      "version": "3.9.5"
    }
  },
  "nbformat": 4,
  "nbformat_minor": 5
}
